{
 "cells": [
  {
   "cell_type": "markdown",
   "metadata": {},
   "source": [
    "# Sentiment Analysis Using Emojis Project"
   ]
  },
  {
   "cell_type": "markdown",
   "metadata": {},
   "source": [
    "Zack V., February 15, 2016\n"
   ]
  },
  {
   "cell_type": "markdown",
   "metadata": {},
   "source": [
    "### Data Exploration on Labels"
   ]
  },
  {
   "cell_type": "markdown",
   "metadata": {},
   "source": [
    "In this notebook we explore the connections between the emoji based labels and the human ones, based on a random sample of 500 tweets. the objective is to establish whether the emojis provide an accurate enough labeling, for the two sentiments analyzed (happy, unhappy)."
   ]
  },
  {
   "cell_type": "code",
   "execution_count": 4,
   "metadata": {
    "collapsed": true
   },
   "outputs": [],
   "source": [
    "import numpy as np"
   ]
  },
  {
   "cell_type": "code",
   "execution_count": 2,
   "metadata": {
    "collapsed": false
   },
   "outputs": [],
   "source": [
    "f = open(\"d:\\\\data\\\\tweetvalidate.tsv\", \"r\") # load the validated data (human labelled tweets)\n",
    "lines = f.readlines()\n",
    "f.close()"
   ]
  },
  {
   "cell_type": "code",
   "execution_count": 5,
   "metadata": {
    "collapsed": true
   },
   "outputs": [],
   "source": [
    "N = len(lines) - 2"
   ]
  },
  {
   "cell_type": "code",
   "execution_count": 6,
   "metadata": {
    "collapsed": true
   },
   "outputs": [],
   "source": [
    "VD = np.zeros(N) # Validated Data array"
   ]
  },
  {
   "cell_type": "code",
   "execution_count": 22,
   "metadata": {
    "collapsed": true
   },
   "outputs": [],
   "source": [
    "c = 0"
   ]
  },
  {
   "cell_type": "code",
   "execution_count": 23,
   "metadata": {
    "collapsed": true
   },
   "outputs": [],
   "source": [
    "for line in lines[2:]: # skip the first 2 lines (headers)\n",
    "    temp = line.split(\"\\t\")[1:4]\n",
    "    \n",
    "    for i in xrange(3):\n",
    "        if temp[i] == \"p\" or temp[i] == \"P\":\n",
    "            temp[i] = 1\n",
    "        elif temp[i] == \"n\" or temp[i] == \"N\":\n",
    "            temp[i] = -1\n",
    "        else:\n",
    "            temp[i] = 0\n",
    "            \n",
    "    VD[c] = np.sign(sum(temp))\n",
    "    c += 1"
   ]
  },
  {
   "cell_type": "code",
   "execution_count": 25,
   "metadata": {
    "collapsed": true
   },
   "outputs": [],
   "source": [
    "f = open(\"d:\\\\data\\\\tweetvalidatekey.csv\", \"r\") # load the true data (emoji labelled tweets\n",
    "lines = f.readlines()\n",
    "f.close()"
   ]
  },
  {
   "cell_type": "code",
   "execution_count": 34,
   "metadata": {
    "collapsed": true
   },
   "outputs": [],
   "source": [
    "TD = np.ones(N) # True Data"
   ]
  },
  {
   "cell_type": "code",
   "execution_count": 52,
   "metadata": {
    "collapsed": true
   },
   "outputs": [],
   "source": [
    "c = 0"
   ]
  },
  {
   "cell_type": "code",
   "execution_count": 53,
   "metadata": {
    "collapsed": false
   },
   "outputs": [],
   "source": [
    "for line in lines[1:N]: # skip the first line (headers)\n",
    "    line = line.split(\",\")\n",
    "    label = line[1] \n",
    "    if label == \"Negative\": TD[c] = -1\n",
    "    c += 1"
   ]
  },
  {
   "cell_type": "code",
   "execution_count": 56,
   "metadata": {
    "collapsed": false
   },
   "outputs": [],
   "source": [
    "CM = np.zeros((3,2)) # Confusion Matrix"
   ]
  },
  {
   "cell_type": "code",
   "execution_count": 57,
   "metadata": {
    "collapsed": true
   },
   "outputs": [],
   "source": [
    "VL = [1, -1, 0] # Validated Labels\n",
    "TL = [1, -1] # True Labels"
   ]
  },
  {
   "cell_type": "code",
   "execution_count": 62,
   "metadata": {
    "collapsed": false
   },
   "outputs": [
    {
     "name": "stdout",
     "output_type": "stream",
     "text": [
      "[[ 103.  205.]\n",
      " [   8.  147.]\n",
      " [   8.   29.]]\n"
     ]
    }
   ],
   "source": [
    "for z in xrange(N):\n",
    "    for i in xrange(3):\n",
    "        for j in xrange(2):\n",
    "            if (VD[z] == VL[i]) and (TD[z] == TL[j]): CM[i,j] += 1\n",
    "\n",
    "print CM"
   ]
  },
  {
   "cell_type": "code",
   "execution_count": 68,
   "metadata": {
    "collapsed": false
   },
   "outputs": [
    {
     "name": "stdout",
     "output_type": "stream",
     "text": [
      "0.539956803456\n"
     ]
    }
   ],
   "source": [
    "SI = (CM[0,0] + CM[1,1]) / (N - sum(CM[2,:])) # Similarity Index (ignoring 3rd row)\n",
    "print SI"
   ]
  },
  {
   "cell_type": "code",
   "execution_count": 69,
   "metadata": {
    "collapsed": true
   },
   "outputs": [],
   "source": [
    "def JS(CM, C): # Jaccard Similarity of class C\n",
    "    N = sum(sum(CM))\n",
    "    \n",
    "    if C == 0:\n",
    "        return CM[0,0] / (N - CM[1,1])\n",
    "    else:\n",
    "        return CM[1,1] / (N - CM[0,0])"
   ]
  },
  {
   "cell_type": "code",
   "execution_count": 72,
   "metadata": {
    "collapsed": false
   },
   "outputs": [
    {
     "name": "stdout",
     "output_type": "stream",
     "text": [
      "[0.29178470254957506, 0.37027707808564231]\n"
     ]
    }
   ],
   "source": [
    "J = [JS(CM,0), JS(CM,1)]\n",
    "print J"
   ]
  },
  {
   "cell_type": "markdown",
   "metadata": {},
   "source": [
    "### Conclusions"
   ]
  },
  {
   "cell_type": "markdown",
   "metadata": {},
   "source": [
    "There is some overlap between the human-labeled tweets and the emoji labels (54%), yet there is a large number of false positives (if we take the emoji data to be correct). This is reflected by the Jaccard Similarity on the \"Positive\" class (0), which is around 29%. The number of neutral tweets, although small, is not negligible (~ 7.5%). Perhaps the use of a third class in the emoji classification would improve the overall similarity."
   ]
  }
 ],
 "metadata": {
  "kernelspec": {
   "display_name": "Python 2",
   "language": "python",
   "name": "python2"
  },
  "language_info": {
   "codemirror_mode": {
    "name": "ipython",
    "version": 2
   },
   "file_extension": ".py",
   "mimetype": "text/x-python",
   "name": "python",
   "nbconvert_exporter": "python",
   "pygments_lexer": "ipython2",
   "version": "2.7.11"
  }
 },
 "nbformat": 4,
 "nbformat_minor": 0
}
