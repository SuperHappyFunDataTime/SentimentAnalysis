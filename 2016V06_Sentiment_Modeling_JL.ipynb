{
 "cells": [
  {
   "cell_type": "code",
   "execution_count": 2,
   "metadata": {
    "collapsed": false
   },
   "outputs": [
    {
     "name": "stderr",
     "output_type": "stream",
     "text": [
      "/home/ubuntu/anaconda2/lib/python2.7/site-packages/matplotlib/__init__.py:872: UserWarning: axes.color_cycle is deprecated and replaced with axes.prop_cycle; please use the latter.\n",
      "  warnings.warn(self.msg_depr % (key, alt_key))\n"
     ]
    }
   ],
   "source": [
    "%matplotlib inline\n",
    "from IPython.core.display import HTML, display\n",
    "HTML(\"<style>.container { width:100% !important; }</style>\")\n",
    "\n",
    "import matplotlib\n",
    "import matplotlib.pyplot as plt\n",
    "import seaborn as sns\n"
   ]
  },
  {
   "cell_type": "code",
   "execution_count": 3,
   "metadata": {
    "collapsed": false
   },
   "outputs": [],
   "source": [
    "import pandas as pd\n",
    "import numpy as np\n",
    "# import emoji lists from data.sentiment_dict\n",
    "from Data.sentiment_dict import positive, negative\n",
    "from sklearn.feature_extraction import DictVectorizer\n",
    "pd.options.display.max_colwidth=250\n",
    "pd.options.display.max_columns=999"
   ]
  },
  {
   "cell_type": "code",
   "execution_count": null,
   "metadata": {
    "collapsed": false
   },
   "outputs": [],
   "source": []
  },
  {
   "cell_type": "code",
   "execution_count": 4,
   "metadata": {
    "collapsed": true
   },
   "outputs": [],
   "source": [
    "# separate tweet into parts with emojis of interest and the rest\n",
    "def separate_emoji(tweet, emojis):\n",
    "    text = tweet[:]\n",
    "    emojis_exist=set()\n",
    "    for i in emojis:\n",
    "        if i in text:\n",
    "            text = text.replace(i,'')\n",
    "            emojis_exist.add(i)\n",
    "    return text, dict.fromkeys(emojis_exist,1)"
   ]
  },
  {
   "cell_type": "code",
   "execution_count": 5,
   "metadata": {
    "collapsed": true
   },
   "outputs": [],
   "source": [
    "# specify the location of the tweets\n",
    "negtweet_file ='./Data/positive.txt'\n",
    "postweet_file ='./Data/negative.txt'"
   ]
  },
  {
   "cell_type": "code",
   "execution_count": 6,
   "metadata": {
    "collapsed": false
   },
   "outputs": [],
   "source": [
    "positive=[ \n",
    "            ':-)',':)',':o)',':]',':c)',':D','C:',   # JF, MS removed :3 because of confusion with times\n",
    "            u'\\u263A',  # JF\n",
    "            u'\\U0001F600',  # JF\n",
    "            u'\\U0001F601',  # JF\n",
    "            u'\\U0001F602',  # JF\n",
    "            u'\\U0001F603',  # JF\n",
    "            u'\\U0001F604',  # JF\n",
    "            u'\\U0001F606',  # JF\n",
    "            u'\\U0001F60A',  # JF\n",
    "            u'\\U0001F60B',  # JF\n",
    "            u'\\U0001F60D',  # JF\n",
    "            u'\\U0001F60E',  # JF\n",
    "            u'\\U0001F607',  # JF\n",
    "            u'\\U0001F617',  # JF\n",
    "            u'\\U0001F618',  # JF\n",
    "            u'\\U0001F642',  # JF\n",
    "            u'\\U0001F638',  # JF\n",
    "         ]\n",
    "negative =[\n",
    "            ':-(',':(',':c',':[','D8','D;','D=','DX','v.v',  # JF\n",
    "            u\"\\u2639\",  # JF\n",
    "            u'\\U0001F613',  # JF\n",
    "            u'\\U0001F614',  # JF\n",
    "            u'\\U0001F615',  # JF\n",
    "            u'\\U0001F616',  # JF\n",
    "            u'\\U0001F621',  # JF\n",
    "            u'\\U0001F622',  # JF\n",
    "            u'\\U0001F623',  # JF\n",
    "            u'\\U0001F624',  # JF\n",
    "            u'\\U0001F625',  # JF\n",
    "            u'\\U0001F626',  # JF\n",
    "            u'\\U0001F627',  # JF\n",
    "            u'\\U0001F628',  # JF\n",
    "            u'\\U0001F629',  # JF\n",
    "            u'\\U0001F62D',  # MS\n",
    "            u'\\U0001F630',  # JF\n",
    "            u'\\U0001F631',  # JF\n",
    "            u'\\U0001F641',  # JF\n",
    "            ]\n"
   ]
  },
  {
   "cell_type": "code",
   "execution_count": null,
   "metadata": {
    "collapsed": false
   },
   "outputs": [],
   "source": []
  },
  {
   "cell_type": "code",
   "execution_count": 7,
   "metadata": {
    "collapsed": false,
    "scrolled": true
   },
   "outputs": [],
   "source": [
    "cnt = 0\n",
    "with open('Data/clean_data.txt','w') as out_file:\n",
    "    with open(negtweet_file,'r') as f:\n",
    "        for line in f:\n",
    "            if len(line.split('|'))==2:\n",
    "                out_file.write(line)\n",
    "    with open(postweet_file,'r') as f:\n",
    "        for line in f:\n",
    "            if len(line.split('|'))==2:\n",
    "                out_file.write(line)"
   ]
  },
  {
   "cell_type": "code",
   "execution_count": 8,
   "metadata": {
    "collapsed": false
   },
   "outputs": [],
   "source": [
    "tweet_df=[]\n",
    "with open('Data/clean_data.txt','r') as f:\n",
    "    for line in f:\n",
    "        if len(line.split('|'))==2:\n",
    "            tweet_df.append(line.split('|'))"
   ]
  },
  {
   "cell_type": "code",
   "execution_count": 9,
   "metadata": {
    "collapsed": false
   },
   "outputs": [],
   "source": [
    "tweet_df=pd.DataFrame(tweet_df, columns=['id','tweet'])\n",
    "tweet_df.index=tweet_df.id\n",
    "tweet_df=tweet_df[['tweet']]"
   ]
  },
  {
   "cell_type": "code",
   "execution_count": 10,
   "metadata": {
    "collapsed": false
   },
   "outputs": [],
   "source": [
    "tweet_text_emoji=tweet_df.tweet.map(lambda x:separate_emoji(x.decode('utf-8'), positive+negative))"
   ]
  },
  {
   "cell_type": "code",
   "execution_count": 11,
   "metadata": {
    "collapsed": true
   },
   "outputs": [],
   "source": [
    "tweet_df['tweet_text'] = tweet_text_emoji.map(lambda x:x[0])"
   ]
  },
  {
   "cell_type": "code",
   "execution_count": 12,
   "metadata": {
    "collapsed": false
   },
   "outputs": [],
   "source": [
    "tweet_df['tweet_emoji'] = tweet_text_emoji.map(lambda x:x[1])"
   ]
  },
  {
   "cell_type": "code",
   "execution_count": 15,
   "metadata": {
    "collapsed": false
   },
   "outputs": [],
   "source": [
    "import pickle\n",
    "with open('./Data/tweet_2016_03_21.pkl','wb') as f:\n",
    "    pickle.dump(tweet_df,f)"
   ]
  },
  {
   "cell_type": "code",
   "execution_count": 19,
   "metadata": {
    "collapsed": false
   },
   "outputs": [],
   "source": [
    "with open('./Data/tweet_2016_03_21.pkl','rb') as f:\n",
    "    df = pickle.load(f)"
   ]
  },
  {
   "cell_type": "code",
   "execution_count": 20,
   "metadata": {
    "collapsed": false
   },
   "outputs": [
    {
     "data": {
      "text/html": [
       "<div>\n",
       "<table border=\"1\" class=\"dataframe\">\n",
       "  <thead>\n",
       "    <tr style=\"text-align: right;\">\n",
       "      <th></th>\n",
       "      <th>tweet</th>\n",
       "      <th>tweet_text</th>\n",
       "      <th>tweet_emoji</th>\n",
       "    </tr>\n",
       "    <tr>\n",
       "      <th>id</th>\n",
       "      <th></th>\n",
       "      <th></th>\n",
       "      <th></th>\n",
       "    </tr>\n",
       "  </thead>\n",
       "  <tbody>\n",
       "    <tr>\n",
       "      <th>698750876014546944</th>\n",
       "      <td>Happiness is :D :D When you are the reason of someone's happiness. All the darians have checked in at 8.00... \\n</td>\n",
       "      <td>Happiness is   When you are the reason of someone's happiness. All the darians have checked in at 8.00... \\n</td>\n",
       "      <td>{u':D': 1}</td>\n",
       "    </tr>\n",
       "    <tr>\n",
       "      <th>698750888576466944</th>\n",
       "      <td>thanks baby😘\\n</td>\n",
       "      <td>thanks baby\\n</td>\n",
       "      <td>{u'😘': 1}</td>\n",
       "    </tr>\n",
       "    <tr>\n",
       "      <th>698750913771483137</th>\n",
       "      <td>you guys are something else lmao😂😂\\n</td>\n",
       "      <td>you guys are something else lmao\\n</td>\n",
       "      <td>{u'😂': 1}</td>\n",
       "    </tr>\n",
       "    <tr>\n",
       "      <th>698750913771671552</th>\n",
       "      <td>Thx for the follow Craig Carpenter! Looking forward to your tweets. :) \\n</td>\n",
       "      <td>Thx for the follow Craig Carpenter! Looking forward to your tweets.  \\n</td>\n",
       "      <td>{u':)': 1}</td>\n",
       "    </tr>\n",
       "    <tr>\n",
       "      <th>698750917965778946</th>\n",
       "      <td>Chicken sandwich with huancaína sauce and goat cheese :)\\n</td>\n",
       "      <td>Chicken sandwich with huancaína sauce and goat cheese \\n</td>\n",
       "      <td>{u':)': 1}</td>\n",
       "    </tr>\n",
       "  </tbody>\n",
       "</table>\n",
       "</div>"
      ],
      "text/plain": [
       "                                                                                                                               tweet  \\\n",
       "id                                                                                                                                     \n",
       "698750876014546944  Happiness is :D :D When you are the reason of someone's happiness. All the darians have checked in at 8.00... \\n   \n",
       "698750888576466944                                                                                                    thanks baby😘\\n   \n",
       "698750913771483137                                                                              you guys are something else lmao😂😂\\n   \n",
       "698750913771671552                                         Thx for the follow Craig Carpenter! Looking forward to your tweets. :) \\n   \n",
       "698750917965778946                                                        Chicken sandwich with huancaína sauce and goat cheese :)\\n   \n",
       "\n",
       "                                                                                                                      tweet_text  \\\n",
       "id                                                                                                                                 \n",
       "698750876014546944  Happiness is   When you are the reason of someone's happiness. All the darians have checked in at 8.00... \\n   \n",
       "698750888576466944                                                                                                 thanks baby\\n   \n",
       "698750913771483137                                                                            you guys are something else lmao\\n   \n",
       "698750913771671552                                       Thx for the follow Craig Carpenter! Looking forward to your tweets.  \\n   \n",
       "698750917965778946                                                      Chicken sandwich with huancaína sauce and goat cheese \\n   \n",
       "\n",
       "                   tweet_emoji  \n",
       "id                              \n",
       "698750876014546944  {u':D': 1}  \n",
       "698750888576466944   {u'😘': 1}  \n",
       "698750913771483137   {u'😂': 1}  \n",
       "698750913771671552  {u':)': 1}  \n",
       "698750917965778946  {u':)': 1}  "
      ]
     },
     "execution_count": 20,
     "metadata": {},
     "output_type": "execute_result"
    }
   ],
   "source": [
    "df.head()"
   ]
  },
  {
   "cell_type": "code",
   "execution_count": null,
   "metadata": {
    "collapsed": false
   },
   "outputs": [],
   "source": [
    "DV=DictVectorizer()\n",
    "emoji_df=DV.fit_transform(emoji_df) # this is actually a vector, or matrix, not a df\n",
    "emoji_list = {}\n",
    "for i in DV.feature_names_:\n",
    "    emoji_list[i.encode('raw_unicode_escape')] = i\n",
    "emoji_list=pd.DataFrame(emoji_list, index=[0])\n",
    "emoji_list = emoji_list[[i.encode('raw_unicode_escape') for i in DV.feature_names_]]\n",
    "emoji_df=pd.DataFrame(emoji_df.toarray(), columns=[i.encode('raw_unicode_escape') for i in DV.feature_names_])"
   ]
  },
  {
   "cell_type": "code",
   "execution_count": null,
   "metadata": {
    "collapsed": false
   },
   "outputs": [],
   "source": []
  },
  {
   "cell_type": "code",
   "execution_count": 5,
   "metadata": {
    "collapsed": false
   },
   "outputs": [],
   "source": [
    "DV=DictVectorizer()\n",
    "emoji_df=DV.fit_transform(emoji_df) # this is actually a vector, or matrix, not a df\n",
    "emoji_list = {}\n",
    "for i in DV.feature_names_:\n",
    "    emoji_list[i.encode('raw_unicode_escape')] = i\n",
    "emoji_list=pd.DataFrame(emoji_list, index=[0])\n",
    "emoji_list = emoji_list[[i.encode('raw_unicode_escape') for i in DV.feature_names_]]\n",
    "emoji_df=pd.DataFrame(emoji_df.toarray(), columns=[i.encode('raw_unicode_escape') for i in DV.feature_names_])"
   ]
  },
  {
   "cell_type": "code",
   "execution_count": 6,
   "metadata": {
    "collapsed": true
   },
   "outputs": [],
   "source": [
    "positive_columns = [i.encode('raw_unicode_escape') for i in positive]\n",
    "negative_columns = [i.encode('raw_unicode_escape') for i in negative]"
   ]
  },
  {
   "cell_type": "code",
   "execution_count": null,
   "metadata": {
    "collapsed": false
   },
   "outputs": [],
   "source": []
  },
  {
   "cell_type": "code",
   "execution_count": 7,
   "metadata": {
    "collapsed": false
   },
   "outputs": [
    {
     "data": {
      "text/html": [
       "<div>\n",
       "<table border=\"1\" class=\"dataframe\">\n",
       "  <thead>\n",
       "    <tr style=\"text-align: right;\">\n",
       "      <th></th>\n",
       "      <th>\\u2639</th>\n",
       "      <th>\\u263a</th>\n",
       "      <th>\\U0001f600</th>\n",
       "      <th>\\U0001f601</th>\n",
       "      <th>\\U0001f602</th>\n",
       "      <th>\\U0001f603</th>\n",
       "      <th>\\U0001f604</th>\n",
       "      <th>\\U0001f606</th>\n",
       "      <th>\\U0001f607</th>\n",
       "      <th>\\U0001f60a</th>\n",
       "      <th>...</th>\n",
       "      <th>\\U0001f626</th>\n",
       "      <th>\\U0001f627</th>\n",
       "      <th>\\U0001f628</th>\n",
       "      <th>\\U0001f629</th>\n",
       "      <th>\\U0001f62d</th>\n",
       "      <th>\\U0001f630</th>\n",
       "      <th>\\U0001f631</th>\n",
       "      <th>\\U0001f638</th>\n",
       "      <th>\\U0001f641</th>\n",
       "      <th>\\U0001f642</th>\n",
       "    </tr>\n",
       "  </thead>\n",
       "  <tbody>\n",
       "    <tr>\n",
       "      <th>0</th>\n",
       "      <td>☹</td>\n",
       "      <td>☺</td>\n",
       "      <td>😀</td>\n",
       "      <td>😁</td>\n",
       "      <td>😂</td>\n",
       "      <td>😃</td>\n",
       "      <td>😄</td>\n",
       "      <td>😆</td>\n",
       "      <td>😇</td>\n",
       "      <td>😊</td>\n",
       "      <td>...</td>\n",
       "      <td>😦</td>\n",
       "      <td>😧</td>\n",
       "      <td>😨</td>\n",
       "      <td>😩</td>\n",
       "      <td>😭</td>\n",
       "      <td>😰</td>\n",
       "      <td>😱</td>\n",
       "      <td>😸</td>\n",
       "      <td>🙁</td>\n",
       "      <td>🙂</td>\n",
       "    </tr>\n",
       "  </tbody>\n",
       "</table>\n",
       "<p>1 rows × 34 columns</p>\n",
       "</div>"
      ],
      "text/plain": [
       "  \\u2639 \\u263a \\U0001f600 \\U0001f601 \\U0001f602 \\U0001f603 \\U0001f604  \\\n",
       "0      ☹      ☺          😀          😁          😂          😃          😄   \n",
       "\n",
       "  \\U0001f606 \\U0001f607 \\U0001f60a    ...     \\U0001f626 \\U0001f627  \\\n",
       "0          😆          😇          😊    ...              😦          😧   \n",
       "\n",
       "  \\U0001f628 \\U0001f629 \\U0001f62d \\U0001f630 \\U0001f631 \\U0001f638  \\\n",
       "0          😨          😩          😭          😰          😱          😸   \n",
       "\n",
       "  \\U0001f641 \\U0001f642  \n",
       "0          🙁          🙂  \n",
       "\n",
       "[1 rows x 34 columns]"
      ]
     },
     "execution_count": 7,
     "metadata": {},
     "output_type": "execute_result"
    }
   ],
   "source": [
    "emoji_list"
   ]
  },
  {
   "cell_type": "code",
   "execution_count": 168,
   "metadata": {
    "collapsed": false
   },
   "outputs": [
    {
     "data": {
      "text/html": [
       "<div>\n",
       "<table border=\"1\" class=\"dataframe\">\n",
       "  <thead>\n",
       "    <tr style=\"text-align: right;\">\n",
       "      <th></th>\n",
       "      <th>tweet</th>\n",
       "    </tr>\n",
       "  </thead>\n",
       "  <tbody>\n",
       "    <tr>\n",
       "      <th>0</th>\n",
       "      <td>bro that's so depressing.. Let's go to his house 🙄\\n</td>\n",
       "    </tr>\n",
       "    <tr>\n",
       "      <th>1</th>\n",
       "      <td>thank you thank you for telling me about them omg i love them ❤x\\n</td>\n",
       "    </tr>\n",
       "    <tr>\n",
       "      <th>2</th>\n",
       "      <td>Excellent day at work, laughed all day. Blessed to do my job. #crewlife #averybritishairline #post2276gettingthere 👏🏻 \\n</td>\n",
       "    </tr>\n",
       "    <tr>\n",
       "      <th>3</th>\n",
       "      <td>Things are getting there \\n</td>\n",
       "    </tr>\n",
       "    <tr>\n",
       "      <th>4</th>\n",
       "      <td>I'm so proud of you! Welcome to the team!! #BellLetsTalk #SickNotWeak   \\n</td>\n",
       "    </tr>\n",
       "    <tr>\n",
       "      <th>5</th>\n",
       "      <td>please follow me  #BellLetsTalk   X18\\n</td>\n",
       "    </tr>\n",
       "    <tr>\n",
       "      <th>6</th>\n",
       "      <td>thanks girl 💕\\n</td>\n",
       "    </tr>\n",
       "    <tr>\n",
       "      <th>7</th>\n",
       "      <td>2 weeks from today  \\n</td>\n",
       "    </tr>\n",
       "    <tr>\n",
       "      <th>8</th>\n",
       "      <td>'s snapchats cheer me up so much\\n</td>\n",
       "    </tr>\n",
       "    <tr>\n",
       "      <th>9</th>\n",
       "      <td>I'm not sure if I'm going yet \\n</td>\n",
       "    </tr>\n",
       "  </tbody>\n",
       "</table>\n",
       "</div>"
      ],
      "text/plain": [
       "                                                                                                                      tweet\n",
       "0                                                                      bro that's so depressing.. Let's go to his house 🙄\\n\n",
       "1                                                        thank you thank you for telling me about them omg i love them ❤x\\n\n",
       "2  Excellent day at work, laughed all day. Blessed to do my job. #crewlife #averybritishairline #post2276gettingthere 👏🏻 \\n\n",
       "3                                                                                               Things are getting there \\n\n",
       "4                                                I'm so proud of you! Welcome to the team!! #BellLetsTalk #SickNotWeak   \\n\n",
       "5                                                                                   please follow me  #BellLetsTalk   X18\\n\n",
       "6                                                                                                           thanks girl 💕\\n\n",
       "7                                                                                                    2 weeks from today  \\n\n",
       "8                                                                                        's snapchats cheer me up so much\\n\n",
       "9                                                                                          I'm not sure if I'm going yet \\n"
      ]
     },
     "metadata": {},
     "output_type": "display_data"
    }
   ],
   "source": [
    "display(tweet_df.head(10))"
   ]
  },
  {
   "cell_type": "code",
   "execution_count": 9,
   "metadata": {
    "collapsed": false
   },
   "outputs": [],
   "source": [
    "# combine tweet_df with emoji_df\n",
    "tweet_with_emoji_df = tweet_df.copy()\n",
    "tweet_with_emoji_df[emoji_df.columns] = emoji_df.copy()\n",
    "tweet_with_emoji_df['label'] = tweet_with_emoji_df[positive_columns].sum(axis=1).map(lambda x: x>=1)"
   ]
  },
  {
   "cell_type": "code",
   "execution_count": null,
   "metadata": {
    "collapsed": false,
    "scrolled": true
   },
   "outputs": [],
   "source": []
  },
  {
   "cell_type": "code",
   "execution_count": 10,
   "metadata": {
    "collapsed": false
   },
   "outputs": [],
   "source": [
    "from sklearn.cross_validation import train_test_split\n",
    "(train_data, test_data) = train_test_split(tweet_with_emoji_df,random_state=0)"
   ]
  },
  {
   "cell_type": "code",
   "execution_count": 11,
   "metadata": {
    "collapsed": false
   },
   "outputs": [],
   "source": [
    "data_samples = train_data.tweet.values\n",
    "# data_samples=np.hstack((train_data.tweet.values, test_data.tweet.values))\n",
    "# data_samples = tweet_with_emoji_df.tweet.values"
   ]
  },
  {
   "cell_type": "code",
   "execution_count": 12,
   "metadata": {
    "collapsed": false
   },
   "outputs": [],
   "source": [
    "# tweet_with_emoji_df.head()\n",
    "# test_data.shape\n"
   ]
  },
  {
   "cell_type": "code",
   "execution_count": 38,
   "metadata": {
    "collapsed": false
   },
   "outputs": [],
   "source": [
    "from time import time\n",
    "\n",
    "from sklearn.feature_extraction.text import TfidfVectorizer, CountVectorizer\n",
    "from sklearn.decomposition import NMF, LatentDirichletAllocation\n",
    "from sklearn.datasets import fetch_20newsgroups"
   ]
  },
  {
   "cell_type": "code",
   "execution_count": 14,
   "metadata": {
    "collapsed": false
   },
   "outputs": [],
   "source": [
    "n_samples = 2000\n",
    "n_features = 1000\n",
    "n_topics = 10\n",
    "n_top_words = 20\n",
    "\n",
    "def print_top_words(model, feature_names, n_top_words):\n",
    "    for topic_idx, topic in enumerate(model.components_):\n",
    "        print(\"Topic #%d:\" % topic_idx)\n",
    "        print(\" \".join([feature_names[i]\n",
    "                        for i in topic.argsort()[:-n_top_words - 1:-1]]))\n",
    "    print()\n",
    "\n"
   ]
  },
  {
   "cell_type": "code",
   "execution_count": 15,
   "metadata": {
    "collapsed": false
   },
   "outputs": [
    {
     "name": "stdout",
     "output_type": "stream",
     "text": [
      "Extracting tf-idf features for NMF...\n",
      "done in 0.627s.\n"
     ]
    }
   ],
   "source": [
    "# Use tf-idf features for NMF.\n",
    "print(\"Extracting tf-idf features for NMF...\")\n",
    "tfidf_vectorizer = TfidfVectorizer(max_df=0.95, min_df=2, #max_features=n_features,\n",
    "                                   stop_words='english')\n",
    "t0 = time()\n",
    "tfidf = tfidf_vectorizer.fit_transform(data_samples)\n",
    "print(\"done in %0.3fs.\" % (time() - t0))"
   ]
  },
  {
   "cell_type": "code",
   "execution_count": 16,
   "metadata": {
    "collapsed": false,
    "scrolled": false
   },
   "outputs": [
    {
     "name": "stdout",
     "output_type": "stream",
     "text": [
      "Extracting tf features for LDA...\n",
      "done in 0.611s.\n",
      "Fitting the NMF model with tf-idf features,n_samples=2000 and n_features=1000...\n",
      "done in 2.119s.\n",
      "\n",
      "Topics in NMF model:\n",
      "Topic #0:\n",
      "love follow laurenfollowspree baby bellletstalk hi facetimemenash omg hey girl make lauren life amp video dream song ya new babe\n",
      "Topic #1:\n",
      "miss man really baby guys friend boyfriend days come brother home gonna hope babe gone amp having soon bae bestfriend\n",
      "Topic #2:\n",
      "know don like feel think really right shit need time let amp lol people wanna follow new make watch got\n",
      "Topic #3:\n",
      "thank god babe boo aw baby haha awesome girl omg awh youuu rt following youuuu oh hope beautiful aww lt\n",
      "Topic #4:\n",
      "happy birthday hope make great makes baby enjoy best bday follow amazing babe year bless girl pretty im time wish\n",
      "Topic #5:\n",
      "day today sleep great hope work valentine bad tomorrow going ve long sad nice really amp school bed ll new\n",
      "Topic #6:\n",
      "thanks follow boo girl following lol man lot rt babe ily hi haha connect hey great oh sharing check appreciate\n",
      "Topic #7:\n",
      "just got wanna need sleep did shit amp say man home lol life let wait oh people thought saw think\n",
      "Topic #8:\n",
      "want really bad don puppy hair baby home rn sleep food work pizza talk leave bed meet long dont sushi\n",
      "Topic #9:\n",
      "good morning night look luck feel hope damn sleep thing feeling really time looking sound sounds girl today god baby\n",
      "\n",
      "Fitting LDA models with tf features, n_samples=2000 and n_features=1000...\n",
      "done in 19.885s.\n",
      "\n",
      "Topics in LDA model:\n",
      "Topic #0:\n",
      "amp going best sorry way talk lmao year live feeling friend class watching amazing away mean hours waiting start hot\n",
      "Topic #1:\n",
      "think people night new better gt week thing makes mad literally haven looking check house weekend just lt hurt freddie\n",
      "Topic #2:\n",
      "miss day thanks thank im follow wish video watch gonna like did new facetimemenash hey guys days ya laurenfollowspree dm\n",
      "Topic #3:\n",
      "like today feel oh come look didn damn stop twitter hair 2016 bitch dont af 30 01 spotted car girls\n",
      "Topic #4:\n",
      "time right work ve omg hate sleep bad school trying gotta friends music little person fun finally food eat tweet\n",
      "Topic #5:\n",
      "know want man let girl just yes god pretty nice rn funny tired sure idk bro dead did read win\n",
      "Topic #6:\n",
      "home tomorrow great phone getting doing just nigga mom beautiful tell having won ok babe kanye help talking head stay\n",
      "Topic #7:\n",
      "love really happy ll wanna birthday like cute don say wait just tho long cause hi ur heart time soon\n",
      "Topic #8:\n",
      "need lol baby hope ass sad rt just good morning hard thought okay sick day gone bellletstalk actually old face\n",
      "Topic #9:\n",
      "don got just good shit make life fuck said fucking tonight ain yeah real 10 anymore money bout believe free\n",
      "\n"
     ]
    }
   ],
   "source": [
    "# Use tf (raw term count) features for LDA.\n",
    "print(\"Extracting tf features for LDA...\")\n",
    "tf_vectorizer = CountVectorizer(max_df=0.95, min_df=2, max_features=n_features,\n",
    "                                stop_words='english')\n",
    "t0 = time()\n",
    "tf = tf_vectorizer.fit_transform(data_samples)\n",
    "print(\"done in %0.3fs.\" % (time() - t0))\n",
    "\n",
    "# Fit the NMF model\n",
    "print(\"Fitting the NMF model with tf-idf features,\"\n",
    "      \"n_samples=%d and n_features=%d...\"\n",
    "      % (n_samples, n_features))\n",
    "t0 = time()\n",
    "nmf = NMF(n_components=n_topics, random_state=1, alpha=.1, l1_ratio=.5).fit(tfidf)\n",
    "\n",
    "print(\"done in %0.3fs.\" % (time() - t0))\n",
    "\n",
    "print(\"\\nTopics in NMF model:\")\n",
    "tfidf_feature_names = tfidf_vectorizer.get_feature_names()\n",
    "print_top_words(nmf, tfidf_feature_names, n_top_words)\n",
    "\n",
    "print(\"Fitting LDA models with tf features, n_samples=%d and n_features=%d...\"\n",
    "      % (n_samples, n_features))\n",
    "lda = LatentDirichletAllocation(n_topics=n_topics, max_iter=5,\n",
    "                                learning_method='online', learning_offset=50.,\n",
    "                                random_state=0)\n",
    "t0 = time()\n",
    "lda.fit(tf)\n",
    "print(\"done in %0.3fs.\" % (time() - t0))\n",
    "\n",
    "print(\"\\nTopics in LDA model:\")\n",
    "tf_feature_names = tf_vectorizer.get_feature_names()\n",
    "print_top_words(lda, tf_feature_names, n_top_words)\n"
   ]
  },
  {
   "cell_type": "code",
   "execution_count": 204,
   "metadata": {
    "collapsed": false
   },
   "outputs": [],
   "source": [
    "# 1-gram with tf-idf\n",
    "tfidf_vectorizer = TfidfVectorizer(max_df=0.95, min_df=2, \n",
    "                                   max_features=n_features,\n",
    "                                   stop_words='english',\n",
    "                                   ngram_range=(1, 6))\n",
    "\n",
    "train_vect = tfidf_vectorizer.fit_transform(train_data.tweet.values)\n",
    "test_vect = tfidf_vectorizer.transform(test_data.tweet.values)"
   ]
  },
  {
   "cell_type": "code",
   "execution_count": 220,
   "metadata": {
    "collapsed": false
   },
   "outputs": [],
   "source": [
    "np.savez_compressed(\"train_data.npz\", I = train_vect, O = train_data.label)"
   ]
  },
  {
   "cell_type": "code",
   "execution_count": 110,
   "metadata": {
    "collapsed": false
   },
   "outputs": [
    {
     "data": {
      "text/plain": [
       "0.7243795917624043"
      ]
     },
     "execution_count": 110,
     "metadata": {},
     "output_type": "execute_result"
    }
   ],
   "source": [
    "#use logistic regression\n",
    "from sklearn.linear_model import LogisticRegression\n",
    "from sklearn.metrics import roc_auc_score, roc_curve\n",
    "\n",
    "clf = LogisticRegression(C=1, penalty='l2')\n",
    "clf.fit(train_vect, train_data.label)\n",
    "roc_auc_score(test_data.label,clf.predict_proba(test_vect)[:,1])"
   ]
  },
  {
   "cell_type": "code",
   "execution_count": 87,
   "metadata": {
    "collapsed": false
   },
   "outputs": [],
   "source": [
    "# roc curve\n",
    "def plot_roc_curve(label, score):\n",
    "    fpr, tpr, _ = roc_curve(label, score)\n",
    "    plt.figure()\n",
    "    plt.plot(fpr, tpr, label='ROC curve (area = %0.2f)' % roc_auc_score(label,score))\n",
    "    plt.plot([0, 1], [0, 1], 'k--')\n",
    "    plt.xlim([0.0, 1.0])\n",
    "    plt.ylim([0.0, 1.05])\n",
    "    plt.xlabel('False Positive Rate')\n",
    "    plt.ylabel('True Positive Rate')\n",
    "    plt.title('Receiver operating characteristic example')\n",
    "    plt.legend(loc=\"lower right\")\n",
    "    plt.show()\n"
   ]
  },
  {
   "cell_type": "code",
   "execution_count": 88,
   "metadata": {
    "collapsed": false
   },
   "outputs": [
    {
     "data": {
      "image/png": "[encoded data removed]",
      "text/plain": [
       "<matplotlib.figure.Figure at 0x7f9a2b32bb10>"
      ]
     },
     "metadata": {},
     "output_type": "display_data"
    }
   ],
   "source": [
    "plot_roc_curve(test_data.label,clf.predict_proba(test_vect)[:,1])"
   ]
  },
  {
   "cell_type": "code",
   "execution_count": 97,
   "metadata": {
    "collapsed": false,
    "scrolled": true
   },
   "outputs": [
    {
     "name": "stderr",
     "output_type": "stream",
     "text": [
      "[Parallel(n_jobs=-1)]: Done  49 tasks       | elapsed:  1.9min\n",
      "[Parallel(n_jobs=-1)]: Done 199 tasks       | elapsed:  8.3min\n"
     ]
    },
    {
     "name": "stdout",
     "output_type": "stream",
     "text": [
      "Fitting 3 folds for each of 144 candidates, totalling 432 fits\n"
     ]
    },
    {
     "name": "stderr",
     "output_type": "stream",
     "text": [
      "[Parallel(n_jobs=-1)]: Done 432 out of 432 | elapsed: 18.0min finished\n"
     ]
    },
    {
     "data": {
      "text/plain": [
       "GridSearchCV(cv=None, error_score='raise',\n",
       "       estimator=Pipeline(steps=[('tf_idf', TfidfVectorizer(analyzer=u'word', binary=False, decode_error=u'strict',\n",
       "        dtype=<type 'numpy.int64'>, encoding=u'utf-8', input=u'content',\n",
       "        lowercase=True, max_df=1.0, max_features=None, min_df=1,\n",
       "        ngram_range=(1, 1), norm=u'l2', preprocessor=None, smooth_idf=Tr...ty='l2', random_state=None, solver='liblinear', tol=0.0001,\n",
       "          verbose=0, warm_start=False))]),\n",
       "       fit_params={}, iid=True, n_jobs=-1,\n",
       "       param_grid={'model__C': [0.5, 1, 2], 'tf_idf__ngram_range': [(1, 1), (1, 3), (1, 6)], 'tf_idf__max_features': [None, 1000], 'tf_idf__max_df': [0.95, 0.85], 'tf_idf__stop_words': ['english', None], 'tf_idf__min_df': [2, 5]},\n",
       "       pre_dispatch='2*n_jobs', refit=True, scoring=None, verbose=1)"
      ]
     },
     "execution_count": 97,
     "metadata": {},
     "output_type": "execute_result"
    }
   ],
   "source": [
    "# grid search\n",
    "from sklearn.grid_search import GridSearchCV\n",
    "clf = Pipeline([('tf_idf', TfidfVectorizer()),\n",
    "               ('model',LogisticRegression())])\n",
    "\n",
    "params = dict(tf_idf__max_df=[0.95, 0.85],\n",
    "             tf_idf__min_df=[2,5],\n",
    "             tf_idf__max_features=[None, n_features],\n",
    "             tf_idf__stop_words=['english', None],\n",
    "             tf_idf__ngram_range=[(1,1),(1,3),(1,6)],\n",
    "             model__C=[0.5,1,2])\n",
    "grid_search = GridSearchCV(clf, param_grid=params,verbose=1,n_jobs=-1)\n",
    "\n",
    "grid_search.fit(train_data.tweet.values, train_data.label)"
   ]
  },
  {
   "cell_type": "code",
   "execution_count": 111,
   "metadata": {
    "collapsed": false
   },
   "outputs": [
    {
     "data": {
      "text/plain": [
       "{'model__C': 2,\n",
       " 'tf_idf__max_df': 0.95,\n",
       " 'tf_idf__max_features': None,\n",
       " 'tf_idf__min_df': 2,\n",
       " 'tf_idf__ngram_range': (1, 3),\n",
       " 'tf_idf__stop_words': None}"
      ]
     },
     "execution_count": 111,
     "metadata": {},
     "output_type": "execute_result"
    }
   ],
   "source": [
    "grid_search.best_params_"
   ]
  },
  {
   "cell_type": "code",
   "execution_count": 112,
   "metadata": {
    "collapsed": false
   },
   "outputs": [
    {
     "name": "stdout",
     "output_type": "stream",
     "text": [
      "0.750104010573\n"
     ]
    }
   ],
   "source": [
    "print(roc_auc_score(test_data.label, grid_search.predict_proba(test_data.tweet)[:,1]))"
   ]
  },
  {
   "cell_type": "code",
   "execution_count": 198,
   "metadata": {
    "collapsed": false
   },
   "outputs": [
    {
     "data": {
      "image/png": "[encoded data removed]",
      "text/plain": [
       "<matplotlib.figure.Figure at 0x7f9a19453f90>"
      ]
     },
     "metadata": {},
     "output_type": "display_data"
    }
   ],
   "source": [
    "clf = Pipeline([('tf_idf', TfidfVectorizer()),\n",
    "               ('model',LogisticRegression())])\n",
    "\n",
    "clf.set_params(**grid_search.best_params_)\n",
    "clf.fit(train_data.tweet.values, train_data.label)\n",
    "plot_roc_curve(test_data.label, clf.predict_proba(test_data.tweet)[:,1])"
   ]
  },
  {
   "cell_type": "code",
   "execution_count": 179,
   "metadata": {
    "collapsed": false
   },
   "outputs": [
    {
     "name": "stdout",
     "output_type": "stream",
     "text": [
      "0.6824\n"
     ]
    }
   ],
   "source": [
    "print(sum(test_data.label == clf.predict(test_data.tweet))*1.0/len(test_data))"
   ]
  },
  {
   "cell_type": "code",
   "execution_count": 187,
   "metadata": {
    "collapsed": false
   },
   "outputs": [
    {
     "name": "stderr",
     "output_type": "stream",
     "text": [
      "/home/ubuntu/anaconda2/lib/python2.7/site-packages/ipykernel/__main__.py:1: SettingWithCopyWarning: \n",
      "A value is trying to be set on a copy of a slice from a DataFrame.\n",
      "Try using .loc[row_indexer,col_indexer] = value instead\n",
      "\n",
      "See the caveats in the documentation: http://pandas.pydata.org/pandas-docs/stable/indexing.html#indexing-view-versus-copy\n",
      "  if __name__ == '__main__':\n"
     ]
    }
   ],
   "source": [
    "test_data['pred'] = clf.predict(test_data.tweet)"
   ]
  },
  {
   "cell_type": "code",
   "execution_count": 69,
   "metadata": {
    "collapsed": false,
    "scrolled": true
   },
   "outputs": [],
   "source": [
    "test_data[['tweet', 'pred', 'label']] "
   ]
  },
  {
   "cell_type": "code",
   "execution_count": 196,
   "metadata": {
    "collapsed": false
   },
   "outputs": [
    {
     "data": {
      "text/html": [
       "<div>\n",
       "<table border=\"1\" class=\"dataframe\">\n",
       "  <thead>\n",
       "    <tr style=\"text-align: right;\">\n",
       "      <th></th>\n",
       "      <th></th>\n",
       "      <th>tweet</th>\n",
       "    </tr>\n",
       "    <tr>\n",
       "      <th>label</th>\n",
       "      <th>pred</th>\n",
       "      <th></th>\n",
       "    </tr>\n",
       "  </thead>\n",
       "  <tbody>\n",
       "    <tr>\n",
       "      <th rowspan=\"2\" valign=\"top\">False</th>\n",
       "      <th>False</th>\n",
       "      <td>5498</td>\n",
       "    </tr>\n",
       "    <tr>\n",
       "      <th>True</th>\n",
       "      <td>1542</td>\n",
       "    </tr>\n",
       "    <tr>\n",
       "      <th rowspan=\"2\" valign=\"top\">True</th>\n",
       "      <th>False</th>\n",
       "      <td>2428</td>\n",
       "    </tr>\n",
       "    <tr>\n",
       "      <th>True</th>\n",
       "      <td>3032</td>\n",
       "    </tr>\n",
       "  </tbody>\n",
       "</table>\n",
       "</div>"
      ],
      "text/plain": [
       "             tweet\n",
       "label pred        \n",
       "False False   5498\n",
       "      True    1542\n",
       "True  False   2428\n",
       "      True    3032"
      ]
     },
     "execution_count": 196,
     "metadata": {},
     "output_type": "execute_result"
    }
   ],
   "source": [
    "test_data[['tweet','pred','label']].groupby(['label','pred']).count()"
   ]
  },
  {
   "cell_type": "code",
   "execution_count": 199,
   "metadata": {
    "collapsed": false
   },
   "outputs": [],
   "source": [
    "n_gram_weight = pd.DataFrame()\n",
    "b=clf.named_steps['tf_idf']\n",
    "n_gram_weight['n_gram']=(map(lambda x: x[1],sorted(map(lambda x: (b.vocabulary_[x], x), b.vocabulary_))))\n",
    "n_gram_weight['weight']=(clf.named_steps['model'].coef_.T[:,0])"
   ]
  },
  {
   "cell_type": "code",
   "execution_count": 200,
   "metadata": {
    "collapsed": true
   },
   "outputs": [],
   "source": [
    "pd.options.display.max_rows=999"
   ]
  },
  {
   "cell_type": "code",
   "execution_count": 203,
   "metadata": {
    "collapsed": false,
    "scrolled": false
   },
   "outputs": [
    {
     "name": "stdout",
     "output_type": "stream",
     "text": [
      "TOP 100 Negative words\n"
     ]
    },
    {
     "data": {
      "text/html": [
       "<div>\n",
       "<table border=\"1\" class=\"dataframe\">\n",
       "  <thead>\n",
       "    <tr style=\"text-align: right;\">\n",
       "      <th></th>\n",
       "      <th>n_gram</th>\n",
       "      <th>weight</th>\n",
       "    </tr>\n",
       "  </thead>\n",
       "  <tbody>\n",
       "    <tr>\n",
       "      <th>27441</th>\n",
       "      <td>miss</td>\n",
       "      <td>-6.367459</td>\n",
       "    </tr>\n",
       "    <tr>\n",
       "      <th>49697</th>\n",
       "      <td>wish</td>\n",
       "      <td>-5.423958</td>\n",
       "    </tr>\n",
       "    <tr>\n",
       "      <th>35643</th>\n",
       "      <td>sad</td>\n",
       "      <td>-5.338546</td>\n",
       "    </tr>\n",
       "    <tr>\n",
       "      <th>27566</th>\n",
       "      <td>missing</td>\n",
       "      <td>-4.403532</td>\n",
       "    </tr>\n",
       "    <tr>\n",
       "      <th>43944</th>\n",
       "      <td>tired</td>\n",
       "      <td>-4.242952</td>\n",
       "    </tr>\n",
       "    <tr>\n",
       "      <th>37196</th>\n",
       "      <td>sick</td>\n",
       "      <td>-4.107634</td>\n",
       "    </tr>\n",
       "    <tr>\n",
       "      <th>17521</th>\n",
       "      <td>hate</td>\n",
       "      <td>-3.737570</td>\n",
       "    </tr>\n",
       "    <tr>\n",
       "      <th>25765</th>\n",
       "      <td>lt</td>\n",
       "      <td>-3.713666</td>\n",
       "    </tr>\n",
       "    <tr>\n",
       "      <th>47366</th>\n",
       "      <td>want</td>\n",
       "      <td>-3.676667</td>\n",
       "    </tr>\n",
       "    <tr>\n",
       "      <th>52430</th>\n",
       "      <td>zayn</td>\n",
       "      <td>-3.575492</td>\n",
       "    </tr>\n",
       "    <tr>\n",
       "      <th>19765</th>\n",
       "      <td>hurts</td>\n",
       "      <td>-3.495047</td>\n",
       "    </tr>\n",
       "    <tr>\n",
       "      <th>18281</th>\n",
       "      <td>headache</td>\n",
       "      <td>-3.440940</td>\n",
       "    </tr>\n",
       "    <tr>\n",
       "      <th>19714</th>\n",
       "      <td>hungry</td>\n",
       "      <td>-3.438158</td>\n",
       "    </tr>\n",
       "    <tr>\n",
       "      <th>39729</th>\n",
       "      <td>sucks</td>\n",
       "      <td>-3.360596</td>\n",
       "    </tr>\n",
       "    <tr>\n",
       "      <th>11754</th>\n",
       "      <td>dx</td>\n",
       "      <td>-3.295688</td>\n",
       "    </tr>\n",
       "    <tr>\n",
       "      <th>37527</th>\n",
       "      <td>sleepy</td>\n",
       "      <td>-3.196282</td>\n",
       "    </tr>\n",
       "    <tr>\n",
       "      <th>35356</th>\n",
       "      <td>rip</td>\n",
       "      <td>-3.060201</td>\n",
       "    </tr>\n",
       "    <tr>\n",
       "      <th>29463</th>\n",
       "      <td>need</td>\n",
       "      <td>-3.056996</td>\n",
       "    </tr>\n",
       "    <tr>\n",
       "      <th>6405</th>\n",
       "      <td>bored</td>\n",
       "      <td>-2.997403</td>\n",
       "    </tr>\n",
       "    <tr>\n",
       "      <th>8745</th>\n",
       "      <td>cold</td>\n",
       "      <td>-2.844115</td>\n",
       "    </tr>\n",
       "    <tr>\n",
       "      <th>13128</th>\n",
       "      <td>feel</td>\n",
       "      <td>-2.821987</td>\n",
       "    </tr>\n",
       "    <tr>\n",
       "      <th>27545</th>\n",
       "      <td>missed</td>\n",
       "      <td>-2.820511</td>\n",
       "    </tr>\n",
       "    <tr>\n",
       "      <th>19743</th>\n",
       "      <td>hurt</td>\n",
       "      <td>-2.723344</td>\n",
       "    </tr>\n",
       "    <tr>\n",
       "      <th>27478</th>\n",
       "      <td>miss my</td>\n",
       "      <td>-2.680867</td>\n",
       "    </tr>\n",
       "    <tr>\n",
       "      <th>19384</th>\n",
       "      <td>horrible</td>\n",
       "      <td>-2.607251</td>\n",
       "    </tr>\n",
       "    <tr>\n",
       "      <th>39392</th>\n",
       "      <td>stomach</td>\n",
       "      <td>-2.590421</td>\n",
       "    </tr>\n",
       "    <tr>\n",
       "      <th>37447</th>\n",
       "      <td>sleep</td>\n",
       "      <td>-2.567054</td>\n",
       "    </tr>\n",
       "    <tr>\n",
       "      <th>32845</th>\n",
       "      <td>pain</td>\n",
       "      <td>-2.563807</td>\n",
       "    </tr>\n",
       "    <tr>\n",
       "      <th>12037</th>\n",
       "      <td>emotional</td>\n",
       "      <td>-2.521749</td>\n",
       "    </tr>\n",
       "    <tr>\n",
       "      <th>50306</th>\n",
       "      <td>worst</td>\n",
       "      <td>-2.504409</td>\n",
       "    </tr>\n",
       "    <tr>\n",
       "      <th>46273</th>\n",
       "      <td>unfortunately</td>\n",
       "      <td>-2.487799</td>\n",
       "    </tr>\n",
       "    <tr>\n",
       "      <th>49284</th>\n",
       "      <td>why</td>\n",
       "      <td>-2.485088</td>\n",
       "    </tr>\n",
       "    <tr>\n",
       "      <th>7668</th>\n",
       "      <td>can find</td>\n",
       "      <td>-2.483946</td>\n",
       "    </tr>\n",
       "    <tr>\n",
       "      <th>38137</th>\n",
       "      <td>so sad</td>\n",
       "      <td>-2.472025</td>\n",
       "    </tr>\n",
       "    <tr>\n",
       "      <th>28156</th>\n",
       "      <td>music</td>\n",
       "      <td>-2.463703</td>\n",
       "    </tr>\n",
       "    <tr>\n",
       "      <th>21579</th>\n",
       "      <td>isn</td>\n",
       "      <td>-2.454149</td>\n",
       "    </tr>\n",
       "    <tr>\n",
       "      <th>33416</th>\n",
       "      <td>pillow talk</td>\n",
       "      <td>-2.394454</td>\n",
       "    </tr>\n",
       "    <tr>\n",
       "      <th>24000</th>\n",
       "      <td>left</td>\n",
       "      <td>-2.371925</td>\n",
       "    </tr>\n",
       "    <tr>\n",
       "      <th>10617</th>\n",
       "      <td>disappointed</td>\n",
       "      <td>-2.361996</td>\n",
       "    </tr>\n",
       "    <tr>\n",
       "      <th>39134</th>\n",
       "      <td>starving</td>\n",
       "      <td>-2.358516</td>\n",
       "    </tr>\n",
       "    <tr>\n",
       "      <th>48712</th>\n",
       "      <td>what to</td>\n",
       "      <td>-2.324880</td>\n",
       "    </tr>\n",
       "    <tr>\n",
       "      <th>35884</th>\n",
       "      <td>save</td>\n",
       "      <td>-2.309528</td>\n",
       "    </tr>\n",
       "    <tr>\n",
       "      <th>9</th>\n",
       "      <td>01</td>\n",
       "      <td>-2.267606</td>\n",
       "    </tr>\n",
       "    <tr>\n",
       "      <th>46548</th>\n",
       "      <td>upset</td>\n",
       "      <td>-2.261914</td>\n",
       "    </tr>\n",
       "    <tr>\n",
       "      <th>50240</th>\n",
       "      <td>working</td>\n",
       "      <td>-2.237580</td>\n",
       "    </tr>\n",
       "    <tr>\n",
       "      <th>6896</th>\n",
       "      <td>but</td>\n",
       "      <td>-2.223761</td>\n",
       "    </tr>\n",
       "    <tr>\n",
       "      <th>9425</th>\n",
       "      <td>craving</td>\n",
       "      <td>-2.203372</td>\n",
       "    </tr>\n",
       "    <tr>\n",
       "      <th>34474</th>\n",
       "      <td>rapper</td>\n",
       "      <td>-2.173747</td>\n",
       "    </tr>\n",
       "    <tr>\n",
       "      <th>3679</th>\n",
       "      <td>are you</td>\n",
       "      <td>-2.155938</td>\n",
       "    </tr>\n",
       "    <tr>\n",
       "      <th>47273</th>\n",
       "      <td>wanna</td>\n",
       "      <td>-2.155915</td>\n",
       "    </tr>\n",
       "    <tr>\n",
       "      <th>32501</th>\n",
       "      <td>ouch</td>\n",
       "      <td>-2.123733</td>\n",
       "    </tr>\n",
       "    <tr>\n",
       "      <th>20066</th>\n",
       "      <td>ill</td>\n",
       "      <td>-2.092471</td>\n",
       "    </tr>\n",
       "    <tr>\n",
       "      <th>19759</th>\n",
       "      <td>hurting</td>\n",
       "      <td>-2.083772</td>\n",
       "    </tr>\n",
       "    <tr>\n",
       "      <th>17511</th>\n",
       "      <td>hasn</td>\n",
       "      <td>-2.064685</td>\n",
       "    </tr>\n",
       "    <tr>\n",
       "      <th>17923</th>\n",
       "      <td>haven</td>\n",
       "      <td>-2.062463</td>\n",
       "    </tr>\n",
       "    <tr>\n",
       "      <th>3365</th>\n",
       "      <td>anymore</td>\n",
       "      <td>-2.041417</td>\n",
       "    </tr>\n",
       "    <tr>\n",
       "      <th>46152</th>\n",
       "      <td>ugh</td>\n",
       "      <td>-2.033341</td>\n",
       "    </tr>\n",
       "    <tr>\n",
       "      <th>48737</th>\n",
       "      <td>what wrong</td>\n",
       "      <td>-2.016656</td>\n",
       "    </tr>\n",
       "    <tr>\n",
       "      <th>23709</th>\n",
       "      <td>last</td>\n",
       "      <td>-2.016574</td>\n",
       "    </tr>\n",
       "    <tr>\n",
       "      <th>35577</th>\n",
       "      <td>rude</td>\n",
       "      <td>-2.012940</td>\n",
       "    </tr>\n",
       "    <tr>\n",
       "      <th>25975</th>\n",
       "      <td>make it</td>\n",
       "      <td>-1.988232</td>\n",
       "    </tr>\n",
       "    <tr>\n",
       "      <th>4623</th>\n",
       "      <td>bad</td>\n",
       "      <td>-1.986193</td>\n",
       "    </tr>\n",
       "    <tr>\n",
       "      <th>50160</th>\n",
       "      <td>work</td>\n",
       "      <td>-1.978447</td>\n",
       "    </tr>\n",
       "    <tr>\n",
       "      <th>7535</th>\n",
       "      <td>camera</td>\n",
       "      <td>-1.969672</td>\n",
       "    </tr>\n",
       "    <tr>\n",
       "      <th>23269</th>\n",
       "      <td>kill</td>\n",
       "      <td>-1.963675</td>\n",
       "    </tr>\n",
       "    <tr>\n",
       "      <th>40457</th>\n",
       "      <td>terrible</td>\n",
       "      <td>-1.952927</td>\n",
       "    </tr>\n",
       "    <tr>\n",
       "      <th>45895</th>\n",
       "      <td>tuesday</td>\n",
       "      <td>-1.952106</td>\n",
       "    </tr>\n",
       "    <tr>\n",
       "      <th>33985</th>\n",
       "      <td>pregnant</td>\n",
       "      <td>-1.932503</td>\n",
       "    </tr>\n",
       "    <tr>\n",
       "      <th>35693</th>\n",
       "      <td>sadly</td>\n",
       "      <td>-1.925401</td>\n",
       "    </tr>\n",
       "    <tr>\n",
       "      <th>38719</th>\n",
       "      <td>sorry</td>\n",
       "      <td>-1.922833</td>\n",
       "    </tr>\n",
       "    <tr>\n",
       "      <th>18353</th>\n",
       "      <td>heart</td>\n",
       "      <td>-1.922186</td>\n",
       "    </tr>\n",
       "    <tr>\n",
       "      <th>12668</th>\n",
       "      <td>exhausted</td>\n",
       "      <td>-1.912130</td>\n",
       "    </tr>\n",
       "    <tr>\n",
       "      <th>11196</th>\n",
       "      <td>don like</td>\n",
       "      <td>-1.908493</td>\n",
       "    </tr>\n",
       "    <tr>\n",
       "      <th>27564</th>\n",
       "      <td>missin</td>\n",
       "      <td>-1.907479</td>\n",
       "    </tr>\n",
       "    <tr>\n",
       "      <th>31834</th>\n",
       "      <td>on my</td>\n",
       "      <td>-1.893137</td>\n",
       "    </tr>\n",
       "    <tr>\n",
       "      <th>39517</th>\n",
       "      <td>stream</td>\n",
       "      <td>-1.890658</td>\n",
       "    </tr>\n",
       "    <tr>\n",
       "      <th>9413</th>\n",
       "      <td>cramps</td>\n",
       "      <td>-1.886691</td>\n",
       "    </tr>\n",
       "    <tr>\n",
       "      <th>49778</th>\n",
       "      <td>wishing</td>\n",
       "      <td>-1.881119</td>\n",
       "    </tr>\n",
       "    <tr>\n",
       "      <th>10447</th>\n",
       "      <td>didn</td>\n",
       "      <td>-1.873232</td>\n",
       "    </tr>\n",
       "    <tr>\n",
       "      <th>6603</th>\n",
       "      <td>brave</td>\n",
       "      <td>-1.870938</td>\n",
       "    </tr>\n",
       "    <tr>\n",
       "      <th>48773</th>\n",
       "      <td>whatsapp</td>\n",
       "      <td>-1.862058</td>\n",
       "    </tr>\n",
       "    <tr>\n",
       "      <th>22974</th>\n",
       "      <td>just wanna</td>\n",
       "      <td>-1.859227</td>\n",
       "    </tr>\n",
       "    <tr>\n",
       "      <th>49032</th>\n",
       "      <td>where</td>\n",
       "      <td>-1.857341</td>\n",
       "    </tr>\n",
       "    <tr>\n",
       "      <th>35304</th>\n",
       "      <td>right now</td>\n",
       "      <td>-1.848543</td>\n",
       "    </tr>\n",
       "    <tr>\n",
       "      <th>17428</th>\n",
       "      <td>harsh</td>\n",
       "      <td>-1.847169</td>\n",
       "    </tr>\n",
       "    <tr>\n",
       "      <th>37238</th>\n",
       "      <td>sigh</td>\n",
       "      <td>-1.838530</td>\n",
       "    </tr>\n",
       "    <tr>\n",
       "      <th>33596</th>\n",
       "      <td>please</td>\n",
       "      <td>-1.829433</td>\n",
       "    </tr>\n",
       "    <tr>\n",
       "      <th>10436</th>\n",
       "      <td>did you</td>\n",
       "      <td>-1.807183</td>\n",
       "    </tr>\n",
       "    <tr>\n",
       "      <th>38222</th>\n",
       "      <td>so tired</td>\n",
       "      <td>-1.800146</td>\n",
       "    </tr>\n",
       "    <tr>\n",
       "      <th>6172</th>\n",
       "      <td>bitter</td>\n",
       "      <td>-1.777859</td>\n",
       "    </tr>\n",
       "    <tr>\n",
       "      <th>5727</th>\n",
       "      <td>believe</td>\n",
       "      <td>-1.770647</td>\n",
       "    </tr>\n",
       "    <tr>\n",
       "      <th>4328</th>\n",
       "      <td>away</td>\n",
       "      <td>-1.767752</td>\n",
       "    </tr>\n",
       "    <tr>\n",
       "      <th>33421</th>\n",
       "      <td>pillowtalk</td>\n",
       "      <td>-1.751860</td>\n",
       "    </tr>\n",
       "    <tr>\n",
       "      <th>29513</th>\n",
       "      <td>need new</td>\n",
       "      <td>-1.747501</td>\n",
       "    </tr>\n",
       "    <tr>\n",
       "      <th>33044</th>\n",
       "      <td>pdx</td>\n",
       "      <td>-1.746875</td>\n",
       "    </tr>\n",
       "    <tr>\n",
       "      <th>22984</th>\n",
       "      <td>just want</td>\n",
       "      <td>-1.745664</td>\n",
       "    </tr>\n",
       "    <tr>\n",
       "      <th>10620</th>\n",
       "      <td>disappointing</td>\n",
       "      <td>-1.744119</td>\n",
       "    </tr>\n",
       "    <tr>\n",
       "      <th>49308</th>\n",
       "      <td>why can</td>\n",
       "      <td>-1.738809</td>\n",
       "    </tr>\n",
       "    <tr>\n",
       "      <th>19121</th>\n",
       "      <td>ho</td>\n",
       "      <td>-1.736347</td>\n",
       "    </tr>\n",
       "    <tr>\n",
       "      <th>20990</th>\n",
       "      <td>irritated</td>\n",
       "      <td>-1.732652</td>\n",
       "    </tr>\n",
       "  </tbody>\n",
       "</table>\n",
       "</div>"
      ],
      "text/plain": [
       "              n_gram    weight\n",
       "27441           miss -6.367459\n",
       "49697           wish -5.423958\n",
       "35643            sad -5.338546\n",
       "27566        missing -4.403532\n",
       "43944          tired -4.242952\n",
       "37196           sick -4.107634\n",
       "17521           hate -3.737570\n",
       "25765             lt -3.713666\n",
       "47366           want -3.676667\n",
       "52430           zayn -3.575492\n",
       "19765          hurts -3.495047\n",
       "18281       headache -3.440940\n",
       "19714         hungry -3.438158\n",
       "39729          sucks -3.360596\n",
       "11754             dx -3.295688\n",
       "37527         sleepy -3.196282\n",
       "35356            rip -3.060201\n",
       "29463           need -3.056996\n",
       "6405           bored -2.997403\n",
       "8745            cold -2.844115\n",
       "13128           feel -2.821987\n",
       "27545         missed -2.820511\n",
       "19743           hurt -2.723344\n",
       "27478        miss my -2.680867\n",
       "19384       horrible -2.607251\n",
       "39392        stomach -2.590421\n",
       "37447          sleep -2.567054\n",
       "32845           pain -2.563807\n",
       "12037      emotional -2.521749\n",
       "50306          worst -2.504409\n",
       "46273  unfortunately -2.487799\n",
       "49284            why -2.485088\n",
       "7668        can find -2.483946\n",
       "38137         so sad -2.472025\n",
       "28156          music -2.463703\n",
       "21579            isn -2.454149\n",
       "33416    pillow talk -2.394454\n",
       "24000           left -2.371925\n",
       "10617   disappointed -2.361996\n",
       "39134       starving -2.358516\n",
       "48712        what to -2.324880\n",
       "35884           save -2.309528\n",
       "9                 01 -2.267606\n",
       "46548          upset -2.261914\n",
       "50240        working -2.237580\n",
       "6896             but -2.223761\n",
       "9425         craving -2.203372\n",
       "34474         rapper -2.173747\n",
       "3679         are you -2.155938\n",
       "47273          wanna -2.155915\n",
       "32501           ouch -2.123733\n",
       "20066            ill -2.092471\n",
       "19759        hurting -2.083772\n",
       "17511           hasn -2.064685\n",
       "17923          haven -2.062463\n",
       "3365         anymore -2.041417\n",
       "46152            ugh -2.033341\n",
       "48737     what wrong -2.016656\n",
       "23709           last -2.016574\n",
       "35577           rude -2.012940\n",
       "25975        make it -1.988232\n",
       "4623             bad -1.986193\n",
       "50160           work -1.978447\n",
       "7535          camera -1.969672\n",
       "23269           kill -1.963675\n",
       "40457       terrible -1.952927\n",
       "45895        tuesday -1.952106\n",
       "33985       pregnant -1.932503\n",
       "35693          sadly -1.925401\n",
       "38719          sorry -1.922833\n",
       "18353          heart -1.922186\n",
       "12668      exhausted -1.912130\n",
       "11196       don like -1.908493\n",
       "27564         missin -1.907479\n",
       "31834          on my -1.893137\n",
       "39517         stream -1.890658\n",
       "9413          cramps -1.886691\n",
       "49778        wishing -1.881119\n",
       "10447           didn -1.873232\n",
       "6603           brave -1.870938\n",
       "48773       whatsapp -1.862058\n",
       "22974     just wanna -1.859227\n",
       "49032          where -1.857341\n",
       "35304      right now -1.848543\n",
       "17428          harsh -1.847169\n",
       "37238           sigh -1.838530\n",
       "33596         please -1.829433\n",
       "10436        did you -1.807183\n",
       "38222       so tired -1.800146\n",
       "6172          bitter -1.777859\n",
       "5727         believe -1.770647\n",
       "4328            away -1.767752\n",
       "33421     pillowtalk -1.751860\n",
       "29513       need new -1.747501\n",
       "33044            pdx -1.746875\n",
       "22984      just want -1.745664\n",
       "10620  disappointing -1.744119\n",
       "49308        why can -1.738809\n",
       "19121             ho -1.736347\n",
       "20990      irritated -1.732652"
      ]
     },
     "execution_count": 203,
     "metadata": {},
     "output_type": "execute_result"
    }
   ],
   "source": [
    "Top_N = 100\n",
    "print('TOP %d Negative words' % Top_N)\n",
    "n_gram_weight.sort_values(by='weight').head(Top_N)"
   ]
  },
  {
   "cell_type": "code",
   "execution_count": 202,
   "metadata": {
    "collapsed": false,
    "scrolled": false
   },
   "outputs": [
    {
     "name": "stdout",
     "output_type": "stream",
     "text": [
      "TOP 20 Positive words\n"
     ]
    },
    {
     "data": {
      "text/html": [
       "<div>\n",
       "<table border=\"1\" class=\"dataframe\">\n",
       "  <thead>\n",
       "    <tr style=\"text-align: right;\">\n",
       "      <th></th>\n",
       "      <th>n_gram</th>\n",
       "      <th>weight</th>\n",
       "    </tr>\n",
       "  </thead>\n",
       "  <tbody>\n",
       "    <tr>\n",
       "      <th>48053</th>\n",
       "      <td>wcw</td>\n",
       "      <td>3.776379</td>\n",
       "    </tr>\n",
       "    <tr>\n",
       "      <th>14961</th>\n",
       "      <td>funny</td>\n",
       "      <td>3.727921</td>\n",
       "    </tr>\n",
       "    <tr>\n",
       "      <th>24985</th>\n",
       "      <td>lmao</td>\n",
       "      <td>3.663118</td>\n",
       "    </tr>\n",
       "    <tr>\n",
       "      <th>23794</th>\n",
       "      <td>laugh</td>\n",
       "      <td>3.572267</td>\n",
       "    </tr>\n",
       "    <tr>\n",
       "      <th>30022</th>\n",
       "      <td>nigga</td>\n",
       "      <td>3.461507</td>\n",
       "    </tr>\n",
       "    <tr>\n",
       "      <th>23040</th>\n",
       "      <td>kanye</td>\n",
       "      <td>3.330243</td>\n",
       "    </tr>\n",
       "    <tr>\n",
       "      <th>12804</th>\n",
       "      <td>facetimemenash</td>\n",
       "      <td>3.160573</td>\n",
       "    </tr>\n",
       "    <tr>\n",
       "      <th>50922</th>\n",
       "      <td>you</td>\n",
       "      <td>3.134933</td>\n",
       "    </tr>\n",
       "    <tr>\n",
       "      <th>2075</th>\n",
       "      <td>amber</td>\n",
       "      <td>3.120014</td>\n",
       "    </tr>\n",
       "    <tr>\n",
       "      <th>30060</th>\n",
       "      <td>niggas</td>\n",
       "      <td>3.080018</td>\n",
       "    </tr>\n",
       "    <tr>\n",
       "      <th>25073</th>\n",
       "      <td>lol</td>\n",
       "      <td>3.035590</td>\n",
       "    </tr>\n",
       "    <tr>\n",
       "      <th>23811</th>\n",
       "      <td>laughing</td>\n",
       "      <td>2.948277</td>\n",
       "    </tr>\n",
       "    <tr>\n",
       "      <th>12632</th>\n",
       "      <td>excited</td>\n",
       "      <td>2.797261</td>\n",
       "    </tr>\n",
       "    <tr>\n",
       "      <th>29291</th>\n",
       "      <td>nah</td>\n",
       "      <td>2.516510</td>\n",
       "    </tr>\n",
       "    <tr>\n",
       "      <th>25734</th>\n",
       "      <td>loving</td>\n",
       "      <td>2.500514</td>\n",
       "    </tr>\n",
       "    <tr>\n",
       "      <th>48283</th>\n",
       "      <td>weak</td>\n",
       "      <td>2.499585</td>\n",
       "    </tr>\n",
       "    <tr>\n",
       "      <th>25026</th>\n",
       "      <td>lmfao</td>\n",
       "      <td>2.474792</td>\n",
       "    </tr>\n",
       "    <tr>\n",
       "      <th>3970</th>\n",
       "      <td>ass</td>\n",
       "      <td>2.469133</td>\n",
       "    </tr>\n",
       "    <tr>\n",
       "      <th>17059</th>\n",
       "      <td>hahaha</td>\n",
       "      <td>2.463350</td>\n",
       "    </tr>\n",
       "    <tr>\n",
       "      <th>5807</th>\n",
       "      <td>best</td>\n",
       "      <td>2.452106</td>\n",
       "    </tr>\n",
       "  </tbody>\n",
       "</table>\n",
       "</div>"
      ],
      "text/plain": [
       "               n_gram    weight\n",
       "48053             wcw  3.776379\n",
       "14961           funny  3.727921\n",
       "24985            lmao  3.663118\n",
       "23794           laugh  3.572267\n",
       "30022           nigga  3.461507\n",
       "23040           kanye  3.330243\n",
       "12804  facetimemenash  3.160573\n",
       "50922             you  3.134933\n",
       "2075            amber  3.120014\n",
       "30060          niggas  3.080018\n",
       "25073             lol  3.035590\n",
       "23811        laughing  2.948277\n",
       "12632         excited  2.797261\n",
       "29291             nah  2.516510\n",
       "25734          loving  2.500514\n",
       "48283            weak  2.499585\n",
       "25026           lmfao  2.474792\n",
       "3970              ass  2.469133\n",
       "17059          hahaha  2.463350\n",
       "5807             best  2.452106"
      ]
     },
     "execution_count": 202,
     "metadata": {},
     "output_type": "execute_result"
    }
   ],
   "source": [
    "print('TOP %d Positive words' % Top_N)\n",
    "n_gram_weight.sort_values(by='weight', ascending=False).head(Top_N)"
   ]
  },
  {
   "cell_type": "code",
   "execution_count": null,
   "metadata": {
    "collapsed": true
   },
   "outputs": [],
   "source": [
    "# 1-gram with tf-idf\n",
    "tfidf_vectorizer = TfidfVectorizer(max_df=0.95, min_df=2, max_features=n_features,\n",
    "                                   stop_words='english',ngram_range=(1, 6))\n",
    "\n",
    "train_vect = tfidf_vectorizer.fit_transform(train_data.tweet.values)\n",
    "test_vect = tfidf_vectorizer.transform(test_data.tweet.values)"
   ]
  },
  {
   "cell_type": "code",
   "execution_count": null,
   "metadata": {
    "collapsed": true
   },
   "outputs": [],
   "source": []
  },
  {
   "cell_type": "code",
   "execution_count": 21,
   "metadata": {
    "collapsed": false
   },
   "outputs": [],
   "source": [
    "# 1-gram with NO tf-idf\n",
    "train_vect = tf_vectorizer.fit_transform(train_data.tweet.values)\n",
    "test_vect = tf_vectorizer.transform(test_data.tweet.values)"
   ]
  },
  {
   "cell_type": "code",
   "execution_count": 22,
   "metadata": {
    "collapsed": false
   },
   "outputs": [
    {
     "data": {
      "image/png": "[encoded data removed]",
      "text/plain": [
       "<matplotlib.figure.Figure at 0x7f9a2b32bed0>"
      ]
     },
     "metadata": {},
     "output_type": "display_data"
    }
   ],
   "source": [
    "clf = LogisticRegression(C=0.1, penalty='l2')\n",
    "clf.fit(train_vect, train_data.label)\n",
    "plot_roc_curve(test_data.label,clf.predict_proba(test_vect)[:,1])"
   ]
  },
  {
   "cell_type": "code",
   "execution_count": 23,
   "metadata": {
    "collapsed": false
   },
   "outputs": [
    {
     "data": {
      "image/png": "[encoded data removed]",
      "text/plain": [
       "<matplotlib.figure.Figure at 0x7f9a2ae3ac50>"
      ]
     },
     "metadata": {},
     "output_type": "display_data"
    }
   ],
   "source": [
    "from sklearn.ensemble import RandomForestClassifier\n",
    "from sklearn.pipeline import Pipeline\n",
    "import sklearn\n",
    "clf = Pipeline([('k_best',sklearn.feature_selection.SelectKBest(k=1000)),\n",
    "        ('clf',RandomForestClassifier(n_estimators=1000, max_depth=5))])\n",
    "clf.fit(train_vect, train_data.label)\n",
    "plot_roc_curve(test_data.label,clf.predict_proba(test_vect)[:,1])"
   ]
  },
  {
   "cell_type": "code",
   "execution_count": 24,
   "metadata": {
    "collapsed": true
   },
   "outputs": [],
   "source": [
    "# after LDA -> Logistic\n",
    "tf_vectorizer = CountVectorizer(max_df=0.95, min_df=2, max_features=n_features,\n",
    "                                stop_words='english')\n",
    "lda = LatentDirichletAllocation(n_topics=n_topics, max_iter=5,\n",
    "                                learning_method='online', learning_offset=50.,\n",
    "                                random_state=0)\n",
    "\n",
    "train_vect = tf_vectorizer.fit_transform(train_data.tweet.values)\n",
    "train_lda = lda.fit_transform(train_vect)\n",
    "test_vect = tf_vectorizer.fit_transform(test_data.tweet.values)\n",
    "test_lda = lda.fit_transform(test_vect)\n"
   ]
  },
  {
   "cell_type": "code",
   "execution_count": 28,
   "metadata": {
    "collapsed": false
   },
   "outputs": [
    {
     "data": {
      "text/plain": [
       "0.51597833156426909"
      ]
     },
     "execution_count": 28,
     "metadata": {},
     "output_type": "execute_result"
    }
   ],
   "source": [
    "clf = LogisticRegression(C=1, penalty='l2')\n",
    "clf.fit(train_lda, train_data.label)\n",
    "roc_auc_score(test_data.label,clf.predict_proba(test_lda)[:,1])\n",
    "# plot_roc_curve(test_data.label,clf.predict_proba(test_lda)[:,1])"
   ]
  },
  {
   "cell_type": "code",
   "execution_count": 45,
   "metadata": {
    "collapsed": false
   },
   "outputs": [],
   "source": [
    "# after LDA -> Logistic\n",
    "n_topics = 50\n",
    "tfidf_vectorizer = TfidfVectorizer(max_df=0.95, min_df=2, #max_features=n_features,\n",
    "                                   stop_words='english')\n",
    "nmf = NMF(n_components=n_topics, random_state=1, alpha=.1, l1_ratio=.5)\n",
    "\n",
    "train_vect = tfidf_vectorizer.fit_transform(train_data.tweet.values)\n",
    "train_nmf = nmf.fit_transform(train_vect)\n",
    "test_vect = tfidf_vectorizer.fit_transform(test_data.tweet.values)\n",
    "test_nmf = nmf.fit_transform(test_vect)\n"
   ]
  },
  {
   "cell_type": "code",
   "execution_count": 46,
   "metadata": {
    "collapsed": false
   },
   "outputs": [
    {
     "data": {
      "text/plain": [
       "0.54658613521894772"
      ]
     },
     "execution_count": 46,
     "metadata": {},
     "output_type": "execute_result"
    }
   ],
   "source": [
    "clf = LogisticRegression(C=0.1, penalty='l1')\n",
    "clf.fit(train_nmf, train_data.label)\n",
    "roc_auc_score(test_data.label,clf.predict_proba(test_nmf)[:,1])\n"
   ]
  },
  {
   "cell_type": "code",
   "execution_count": null,
   "metadata": {
    "collapsed": false
   },
   "outputs": [],
   "source": [
    "print('a')"
   ]
  },
  {
   "cell_type": "code",
   "execution_count": null,
   "metadata": {
    "collapsed": true
   },
   "outputs": [],
   "source": []
  }
 ],
 "metadata": {
  "kernelspec": {
   "display_name": "Python 2",
   "language": "python",
   "name": "python2"
  },
  "language_info": {
   "codemirror_mode": {
    "name": "ipython",
    "version": 2
   },
   "file_extension": ".py",
   "mimetype": "text/x-python",
   "name": "python",
   "nbconvert_exporter": "python",
   "pygments_lexer": "ipython2",
   "version": "2.7.11"
  }
 },
 "nbformat": 4,
 "nbformat_minor": 0
}
