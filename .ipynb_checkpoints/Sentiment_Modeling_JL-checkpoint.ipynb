{
 "cells": [
  {
   "cell_type": "code",
   "execution_count": 2,
   "metadata": {
    "collapsed": false
   },
   "outputs": [
    {
     "name": "stderr",
     "output_type": "stream",
     "text": [
      "/home/ubuntu/anaconda2/lib/python2.7/site-packages/matplotlib/__init__.py:872: UserWarning: axes.color_cycle is deprecated and replaced with axes.prop_cycle; please use the latter.\n",
      "  warnings.warn(self.msg_depr % (key, alt_key))\n"
     ]
    }
   ],
   "source": [
    "from IPython.core.display import HTML, display\n",
    "HTML(\"<style>.container { width:100% !important; }</style>\")\n",
    "%matplotlib inline\n",
    "import matplotlib\n",
    "import matplotlib.pyplot as plt\n",
    "import seaborn as sns\n",
    "matplotlib.rcParams['savefig.dpi'] = matplotlib.rcParams['savefig.dpi']"
   ]
  },
  {
   "cell_type": "code",
   "execution_count": 3,
   "metadata": {
    "collapsed": false
   },
   "outputs": [],
   "source": [
    "import pandas as pd\n",
    "import numpy as np\n",
    "# import emoji lists from data.sentiment_dict\n",
    "from Data.sentiment_dict import positive, negative\n",
    "from sklearn.feature_extraction import DictVectorizer\n",
    "pd.options.display.max_colwidth=250"
   ]
  },
  {
   "cell_type": "code",
   "execution_count": 4,
   "metadata": {
    "collapsed": false
   },
   "outputs": [],
   "source": [
    "# separate tweet into parts with emojis of interest and the rest\n",
    "def separate_emoji(tweet, emojis):\n",
    "    emojis = set(tweet).intersection(emojis)\n",
    "    text = ''\n",
    "    for i in tweet:\n",
    "        if i not in emojis:\n",
    "            text += i\n",
    "    return text, dict.fromkeys(emojis,1)"
   ]
  },
  {
   "cell_type": "code",
   "execution_count": 5,
   "metadata": {
    "collapsed": true
   },
   "outputs": [],
   "source": [
    "# specify the location of the tweets\n",
    "negtweet_file ='./Data/negtweets.txt'\n",
    "postweet_file ='./Data/postweets.txt'"
   ]
  },
  {
   "cell_type": "code",
   "execution_count": 6,
   "metadata": {
    "collapsed": false
   },
   "outputs": [],
   "source": [
    "# initial lists, one for tweets, one for emoji of interest\n",
    "tweet_df = [] # so far, it is just lists\n",
    "emoji_df = []\n",
    "# load all the tweets from positive file\n",
    "with open(postweet_file,'r') as f:\n",
    "    for line in f:\n",
    "        tweet = line.decode('utf-8')\n",
    "        emojis = positive+negative\n",
    "        text_i, emojis_i =separate_emoji(tweet, emojis)\n",
    "        emoji_df.append(emojis_i) \n",
    "        tweet_df.append(text_i)\n",
    "# load all the tweets from negative file\n",
    "with open(negtweet_file,'r') as f:\n",
    "    for line in f:\n",
    "        tweet = line.decode('utf-8')\n",
    "        emojis = positive+negative\n",
    "        text_i, emojis_i =separate_emoji(tweet, emojis)\n",
    "        emoji_df.append(emojis_i) \n",
    "        tweet_df.append(text_i)\n",
    "\n",
    "# convert data into dataframe\n",
    "tweet_df = pd.DataFrame(tweet_df, columns=['tweet'])\n",
    "DV=DictVectorizer()\n",
    "emoji_df=DV.fit_transform(emoji_df) # this is actually a vector, or matrix, not a df\n",
    "emoji_list = {}\n",
    "for i in DV.feature_names_:\n",
    "    emoji_list[i.encode('raw_unicode_escape')] = i\n",
    "emoji_list=pd.DataFrame(emoji_list, index=[0])\n",
    "emoji_list = emoji_list[[i.encode('raw_unicode_escape') for i in DV.feature_names_]]\n",
    "emoji_df=pd.DataFrame(emoji_df.toarray(), columns=[i.encode('raw_unicode_escape') for i in DV.feature_names_])"
   ]
  },
  {
   "cell_type": "code",
   "execution_count": 22,
   "metadata": {
    "collapsed": true
   },
   "outputs": [],
   "source": [
    "positive_columns = [i.encode('raw_unicode_escape') for i in positive]\n",
    "negative_columns = [i.encode('raw_unicode_escape') for i in negative]"
   ]
  },
  {
   "cell_type": "code",
   "execution_count": null,
   "metadata": {
    "collapsed": false
   },
   "outputs": [],
   "source": []
  },
  {
   "cell_type": "code",
   "execution_count": 7,
   "metadata": {
    "collapsed": false
   },
   "outputs": [
    {
     "data": {
      "text/html": [
       "<div>\n",
       "<table border=\"1\" class=\"dataframe\">\n",
       "  <thead>\n",
       "    <tr style=\"text-align: right;\">\n",
       "      <th></th>\n",
       "      <th>\\u2639</th>\n",
       "      <th>\\u263a</th>\n",
       "      <th>\\U0001f600</th>\n",
       "      <th>\\U0001f601</th>\n",
       "      <th>\\U0001f602</th>\n",
       "      <th>\\U0001f603</th>\n",
       "      <th>\\U0001f604</th>\n",
       "      <th>\\U0001f606</th>\n",
       "      <th>\\U0001f607</th>\n",
       "      <th>\\U0001f60a</th>\n",
       "      <th>...</th>\n",
       "      <th>\\U0001f626</th>\n",
       "      <th>\\U0001f627</th>\n",
       "      <th>\\U0001f628</th>\n",
       "      <th>\\U0001f629</th>\n",
       "      <th>\\U0001f62d</th>\n",
       "      <th>\\U0001f630</th>\n",
       "      <th>\\U0001f631</th>\n",
       "      <th>\\U0001f638</th>\n",
       "      <th>\\U0001f641</th>\n",
       "      <th>\\U0001f642</th>\n",
       "    </tr>\n",
       "  </thead>\n",
       "  <tbody>\n",
       "    <tr>\n",
       "      <th>0</th>\n",
       "      <td>☹</td>\n",
       "      <td>☺</td>\n",
       "      <td>😀</td>\n",
       "      <td>😁</td>\n",
       "      <td>😂</td>\n",
       "      <td>😃</td>\n",
       "      <td>😄</td>\n",
       "      <td>😆</td>\n",
       "      <td>😇</td>\n",
       "      <td>😊</td>\n",
       "      <td>...</td>\n",
       "      <td>😦</td>\n",
       "      <td>😧</td>\n",
       "      <td>😨</td>\n",
       "      <td>😩</td>\n",
       "      <td>😭</td>\n",
       "      <td>😰</td>\n",
       "      <td>😱</td>\n",
       "      <td>😸</td>\n",
       "      <td>🙁</td>\n",
       "      <td>🙂</td>\n",
       "    </tr>\n",
       "  </tbody>\n",
       "</table>\n",
       "<p>1 rows × 34 columns</p>\n",
       "</div>"
      ],
      "text/plain": [
       "  \\u2639 \\u263a \\U0001f600 \\U0001f601 \\U0001f602 \\U0001f603 \\U0001f604  \\\n",
       "0      ☹      ☺          😀          😁          😂          😃          😄   \n",
       "\n",
       "  \\U0001f606 \\U0001f607 \\U0001f60a    ...     \\U0001f626 \\U0001f627  \\\n",
       "0          😆          😇          😊    ...              😦          😧   \n",
       "\n",
       "  \\U0001f628 \\U0001f629 \\U0001f62d \\U0001f630 \\U0001f631 \\U0001f638  \\\n",
       "0          😨          😩          😭          😰          😱          😸   \n",
       "\n",
       "  \\U0001f641 \\U0001f642  \n",
       "0          🙁          🙂  \n",
       "\n",
       "[1 rows x 34 columns]"
      ]
     },
     "execution_count": 7,
     "metadata": {},
     "output_type": "execute_result"
    }
   ],
   "source": [
    "emoji_list"
   ]
  },
  {
   "cell_type": "code",
   "execution_count": 8,
   "metadata": {
    "collapsed": false
   },
   "outputs": [
    {
     "data": {
      "text/html": [
       "<div>\n",
       "<table border=\"1\" class=\"dataframe\">\n",
       "  <thead>\n",
       "    <tr style=\"text-align: right;\">\n",
       "      <th></th>\n",
       "      <th>tweet</th>\n",
       "    </tr>\n",
       "  </thead>\n",
       "  <tbody>\n",
       "    <tr>\n",
       "      <th>0</th>\n",
       "      <td>bro that's so depressing.. Let's go to his house 🙄\\n</td>\n",
       "    </tr>\n",
       "    <tr>\n",
       "      <th>1</th>\n",
       "      <td>thank you thank you for telling me about them omg i love them ❤x\\n</td>\n",
       "    </tr>\n",
       "    <tr>\n",
       "      <th>2</th>\n",
       "      <td>Excellent day at work, laughed all day. Blessed to do my job. #crewlife #averybritishairline #post2276gettingthere 👏🏻 \\n</td>\n",
       "    </tr>\n",
       "    <tr>\n",
       "      <th>3</th>\n",
       "      <td>Things are getting there \\n</td>\n",
       "    </tr>\n",
       "    <tr>\n",
       "      <th>4</th>\n",
       "      <td>I'm so proud of you! Welcome to the team!! #BellLetsTalk #SickNotWeak   \\n</td>\n",
       "    </tr>\n",
       "    <tr>\n",
       "      <th>5</th>\n",
       "      <td>please follow me  #BellLetsTalk   X18\\n</td>\n",
       "    </tr>\n",
       "    <tr>\n",
       "      <th>6</th>\n",
       "      <td>thanks girl 💕\\n</td>\n",
       "    </tr>\n",
       "    <tr>\n",
       "      <th>7</th>\n",
       "      <td>2 weeks from today  \\n</td>\n",
       "    </tr>\n",
       "    <tr>\n",
       "      <th>8</th>\n",
       "      <td>'s snapchats cheer me up so much\\n</td>\n",
       "    </tr>\n",
       "    <tr>\n",
       "      <th>9</th>\n",
       "      <td>I'm not sure if I'm going yet \\n</td>\n",
       "    </tr>\n",
       "    <tr>\n",
       "      <th>10</th>\n",
       "      <td>BRUUUUHHH 💀💀 \\n</td>\n",
       "    </tr>\n",
       "    <tr>\n",
       "      <th>11</th>\n",
       "      <td>#SoundsLiveFeelsLive is getting closer    \\n</td>\n",
       "    </tr>\n",
       "    <tr>\n",
       "      <th>12</th>\n",
       "      <td>Fuck me new day are actually incredible \\n</td>\n",
       "    </tr>\n",
       "    <tr>\n",
       "      <th>13</th>\n",
       "      <td>If Misha and Kanye become friends West can finally marry North and then he'll be West West who wears West's Vests :)))\\n</td>\n",
       "    </tr>\n",
       "    <tr>\n",
       "      <th>14</th>\n",
       "      <td>lmao add me to that gc \\n</td>\n",
       "    </tr>\n",
       "    <tr>\n",
       "      <th>15</th>\n",
       "      <td>Amber did not have to go that far \\n</td>\n",
       "    </tr>\n",
       "    <tr>\n",
       "      <th>16</th>\n",
       "      <td>Why everyone just wilding on Twitter today 💀💀💀\\n</td>\n",
       "    </tr>\n",
       "    <tr>\n",
       "      <th>17</th>\n",
       "      <td>#BellLetsTalk I :) Love :) You :)  ❤\\n</td>\n",
       "    </tr>\n",
       "    <tr>\n",
       "      <th>18</th>\n",
       "      <td>RT : Awww  are u mad I'm not around to play in ur asshole anymore? #FingersInTheBootyAssBitch☝\\n</td>\n",
       "    </tr>\n",
       "    <tr>\n",
       "      <th>19</th>\n",
       "      <td>bruh  \\n</td>\n",
       "    </tr>\n",
       "    <tr>\n",
       "      <th>20</th>\n",
       "      <td>I'm dying to get a follow from my personal favorite network I'm always reading and sharing your great work  #BostonSports\\n</td>\n",
       "    </tr>\n",
       "    <tr>\n",
       "      <th>21</th>\n",
       "      <td>Lol, y'all so childish. \\n</td>\n",
       "    </tr>\n",
       "    <tr>\n",
       "      <th>22</th>\n",
       "      <td>I wonder how Rachel's and Ross's daughter is like.  and if Joey finally got married. 😪  \\n</td>\n",
       "    </tr>\n",
       "    <tr>\n",
       "      <th>23</th>\n",
       "      <td>I'm weak  \\n</td>\n",
       "    </tr>\n",
       "    <tr>\n",
       "      <th>24</th>\n",
       "      <td>Knew it  \\n</td>\n",
       "    </tr>\n",
       "    <tr>\n",
       "      <th>25</th>\n",
       "      <td>awweeeee  via~nyee\\n</td>\n",
       "    </tr>\n",
       "    <tr>\n",
       "      <th>26</th>\n",
       "      <td>When she's asks you to sadies with a quote from your favorite show&amp;gt;&amp;gt;❤️    \\n</td>\n",
       "    </tr>\n",
       "    <tr>\n",
       "      <th>27</th>\n",
       "      <td>lol okay just like how you dick ride him now \\n</td>\n",
       "    </tr>\n",
       "    <tr>\n",
       "      <th>28</th>\n",
       "      <td>94/100 on my health exam  \\n</td>\n",
       "    </tr>\n",
       "    <tr>\n",
       "      <th>29</th>\n",
       "      <td>Donald Trump better live tweet the GOP debate since he's not going to be there \\n</td>\n",
       "    </tr>\n",
       "    <tr>\n",
       "      <th>...</th>\n",
       "      <td>...</td>\n",
       "    </tr>\n",
       "    <tr>\n",
       "      <th>49970</th>\n",
       "      <td>I wish I had a bestfriend \\n</td>\n",
       "    </tr>\n",
       "    <tr>\n",
       "      <th>49971</th>\n",
       "      <td>so would I, but don't hold your breath,I would expect the VC to be vocal about issues like this,but silence is all we get :(\\n</td>\n",
       "    </tr>\n",
       "    <tr>\n",
       "      <th>49972</th>\n",
       "      <td>you're not coming to a city i can go to :(\\n</td>\n",
       "    </tr>\n",
       "    <tr>\n",
       "      <th>49973</th>\n",
       "      <td>Drake need to drop views while I still have my 3 month Apple trial \\n</td>\n",
       "    </tr>\n",
       "    <tr>\n",
       "      <th>49974</th>\n",
       "      <td>Why is this day going by so damn slow \\n</td>\n",
       "    </tr>\n",
       "    <tr>\n",
       "      <th>49975</th>\n",
       "      <td>Need me a personal , wya ??? \\n</td>\n",
       "    </tr>\n",
       "    <tr>\n",
       "      <th>49976</th>\n",
       "      <td>Bruh Sunday school  \\n</td>\n",
       "    </tr>\n",
       "    <tr>\n",
       "      <th>49977</th>\n",
       "      <td>I really wanna be home rn :(\\n</td>\n",
       "    </tr>\n",
       "    <tr>\n",
       "      <th>49978</th>\n",
       "      <td>Can't believe I just fuckin cracked my tooth!!! \\n</td>\n",
       "    </tr>\n",
       "    <tr>\n",
       "      <th>49979</th>\n",
       "      <td>When your mom makes u feel worthless n unappreciated asf...🆗😞\\n</td>\n",
       "    </tr>\n",
       "    <tr>\n",
       "      <th>49980</th>\n",
       "      <td>The microwave sound, scared little #Sooty  a lot. He is currently, household-noise sensitive.\\n</td>\n",
       "    </tr>\n",
       "    <tr>\n",
       "      <th>49981</th>\n",
       "      <td>Hi 🙊.\\r 💖.\\r 💝.\\r 💘.\\r 💗.\\rI'm so sorry for spam .\\r .\\r5999.\\n</td>\n",
       "    </tr>\n",
       "    <tr>\n",
       "      <th>49982</th>\n",
       "      <td>it was so good I miss it already \\n</td>\n",
       "    </tr>\n",
       "    <tr>\n",
       "      <th>49983</th>\n",
       "      <td>I am starving :(\\n</td>\n",
       "    </tr>\n",
       "    <tr>\n",
       "      <th>49984</th>\n",
       "      <td>I can't keep living off Richard anymore, I need to find my ambition again in order to  be my own person and have my own income. \\n</td>\n",
       "    </tr>\n",
       "    <tr>\n",
       "      <th>49985</th>\n",
       "      <td>I wanted these wings and a gyro special but that just would of been greedy ✋\\n</td>\n",
       "    </tr>\n",
       "    <tr>\n",
       "      <th>49986</th>\n",
       "      <td>kS05 NDX  #Audi #AudiUK #cars \\n</td>\n",
       "    </tr>\n",
       "    <tr>\n",
       "      <th>49987</th>\n",
       "      <td>Should not have spent all day walking around \\n</td>\n",
       "    </tr>\n",
       "    <tr>\n",
       "      <th>49988</th>\n",
       "      <td>I'm on a roll like cottonelle, I was made for all of this shit 🏈 \\n</td>\n",
       "    </tr>\n",
       "    <tr>\n",
       "      <th>49989</th>\n",
       "      <td>I'm so tired \\n</td>\n",
       "    </tr>\n",
       "    <tr>\n",
       "      <th>49990</th>\n",
       "      <td>Aweee grandpa Hill  \\n</td>\n",
       "    </tr>\n",
       "    <tr>\n",
       "      <th>49991</th>\n",
       "      <td>Every year Dunkin comes out with a new flavor and I fall in love with it and then they discontinue it the next year 💔\\n</td>\n",
       "    </tr>\n",
       "    <tr>\n",
       "      <th>49992</th>\n",
       "      <td>Yes man  \\n</td>\n",
       "    </tr>\n",
       "    <tr>\n",
       "      <th>49993</th>\n",
       "      <td>you got me a Christmas present as well! I haven't gotten you anything :(\\n</td>\n",
       "    </tr>\n",
       "    <tr>\n",
       "      <th>49994</th>\n",
       "      <td>ME ON THE OUTSIDE &amp;gt;:( ME ON THE INSIDE: &amp;gt;&amp;gt;&amp;gt;:( \\n</td>\n",
       "    </tr>\n",
       "    <tr>\n",
       "      <th>49995</th>\n",
       "      <td>I bet you $100 you will not read this and follow me. I bet it. I am convinced getting your follow is the definition of impossible! \\n</td>\n",
       "    </tr>\n",
       "    <tr>\n",
       "      <th>49996</th>\n",
       "      <td>Hungry but too lazy to get up \\n</td>\n",
       "    </tr>\n",
       "    <tr>\n",
       "      <th>49997</th>\n",
       "      <td>I love Drake so much man \\n</td>\n",
       "    </tr>\n",
       "    <tr>\n",
       "      <th>49998</th>\n",
       "      <td>Can't eat..\\n</td>\n",
       "    </tr>\n",
       "    <tr>\n",
       "      <th>49999</th>\n",
       "      <td>i can't wait  \\n</td>\n",
       "    </tr>\n",
       "  </tbody>\n",
       "</table>\n",
       "<p>50000 rows × 1 columns</p>\n",
       "</div>"
      ],
      "text/plain": [
       "                                                                                                                                        tweet\n",
       "0                                                                                        bro that's so depressing.. Let's go to his house 🙄\\n\n",
       "1                                                                          thank you thank you for telling me about them omg i love them ❤x\\n\n",
       "2                    Excellent day at work, laughed all day. Blessed to do my job. #crewlife #averybritishairline #post2276gettingthere 👏🏻 \\n\n",
       "3                                                                                                                 Things are getting there \\n\n",
       "4                                                                  I'm so proud of you! Welcome to the team!! #BellLetsTalk #SickNotWeak   \\n\n",
       "5                                                                                                     please follow me  #BellLetsTalk   X18\\n\n",
       "6                                                                                                                             thanks girl 💕\\n\n",
       "7                                                                                                                      2 weeks from today  \\n\n",
       "8                                                                                                          's snapchats cheer me up so much\\n\n",
       "9                                                                                                            I'm not sure if I'm going yet \\n\n",
       "10                                                                                                                            BRUUUUHHH 💀💀 \\n\n",
       "11                                                                                               #SoundsLiveFeelsLive is getting closer    \\n\n",
       "12                                                                                                 Fuck me new day are actually incredible \\n\n",
       "13                   If Misha and Kanye become friends West can finally marry North and then he'll be West West who wears West's Vests :)))\\n\n",
       "14                                                                                                                  lmao add me to that gc \\n\n",
       "15                                                                                                       Amber did not have to go that far \\n\n",
       "16                                                                                           Why everyone just wilding on Twitter today 💀💀💀\\n\n",
       "17                                                                                                     #BellLetsTalk I :) Love :) You :)  ❤\\n\n",
       "18                                           RT : Awww  are u mad I'm not around to play in ur asshole anymore? #FingersInTheBootyAssBitch☝\\n\n",
       "19                                                                                                                                   bruh  \\n\n",
       "20                I'm dying to get a follow from my personal favorite network I'm always reading and sharing your great work  #BostonSports\\n\n",
       "21                                                                                                                 Lol, y'all so childish. \\n\n",
       "22                                                 I wonder how Rachel's and Ross's daughter is like.  and if Joey finally got married. 😪  \\n\n",
       "23                                                                                                                               I'm weak  \\n\n",
       "24                                                                                                                                Knew it  \\n\n",
       "25                                                                                                                       awweeeee  via~nyee\\n\n",
       "26                                                         When she's asks you to sadies with a quote from your favorite show&gt;&gt;❤️    \\n\n",
       "27                                                                                            lol okay just like how you dick ride him now \\n\n",
       "28                                                                                                               94/100 on my health exam  \\n\n",
       "29                                                          Donald Trump better live tweet the GOP debate since he's not going to be there \\n\n",
       "...                                                                                                                                       ...\n",
       "49970                                                                                                            I wish I had a bestfriend \\n\n",
       "49971          so would I, but don't hold your breath,I would expect the VC to be vocal about issues like this,but silence is all we get :(\\n\n",
       "49972                                                                                            you're not coming to a city i can go to :(\\n\n",
       "49973                                                                   Drake need to drop views while I still have my 3 month Apple trial \\n\n",
       "49974                                                                                                Why is this day going by so damn slow \\n\n",
       "49975                                                                                                         Need me a personal , wya ??? \\n\n",
       "49976                                                                                                                  Bruh Sunday school  \\n\n",
       "49977                                                                                                          I really wanna be home rn :(\\n\n",
       "49978                                                                                      Can't believe I just fuckin cracked my tooth!!! \\n\n",
       "49979                                                                         When your mom makes u feel worthless n unappreciated asf...🆗😞\\n\n",
       "49980                                         The microwave sound, scared little #Sooty  a lot. He is currently, household-noise sensitive.\\n\n",
       "49981                                                                         Hi 🙊.\\r 💖.\\r 💝.\\r 💘.\\r 💗.\\rI'm so sorry for spam .\\r .\\r5999.\\n\n",
       "49982                                                                                                     it was so good I miss it already \\n\n",
       "49983                                                                                                                      I am starving :(\\n\n",
       "49984      I can't keep living off Richard anymore, I need to find my ambition again in order to  be my own person and have my own income. \\n\n",
       "49985                                                          I wanted these wings and a gyro special but that just would of been greedy ✋\\n\n",
       "49986                                                                                                        kS05 NDX  #Audi #AudiUK #cars \\n\n",
       "49987                                                                                         Should not have spent all day walking around \\n\n",
       "49988                                                                     I'm on a roll like cottonelle, I was made for all of this shit 🏈 \\n\n",
       "49989                                                                                                                         I'm so tired \\n\n",
       "49990                                                                                                                  Aweee grandpa Hill  \\n\n",
       "49991                 Every year Dunkin comes out with a new flavor and I fall in love with it and then they discontinue it the next year 💔\\n\n",
       "49992                                                                                                                             Yes man  \\n\n",
       "49993                                                              you got me a Christmas present as well! I haven't gotten you anything :(\\n\n",
       "49994                                                                            ME ON THE OUTSIDE &gt;:( ME ON THE INSIDE: &gt;&gt;&gt;:( \\n\n",
       "49995   I bet you $100 you will not read this and follow me. I bet it. I am convinced getting your follow is the definition of impossible! \\n\n",
       "49996                                                                                                        Hungry but too lazy to get up \\n\n",
       "49997                                                                                                             I love Drake so much man \\n\n",
       "49998                                                                                                                           Can't eat..\\n\n",
       "49999                                                                                                                        i can't wait  \\n\n",
       "\n",
       "[50000 rows x 1 columns]"
      ]
     },
     "metadata": {},
     "output_type": "display_data"
    }
   ],
   "source": [
    "display(tweet_df)"
   ]
  },
  {
   "cell_type": "code",
   "execution_count": 36,
   "metadata": {
    "collapsed": false
   },
   "outputs": [],
   "source": [
    "# combine tweet_df with emoji_df\n",
    "tweet_with_emoji_df = tweet_df.copy()\n",
    "tweet_with_emoji_df[emoji_df.columns] = emoji_df.copy()\n",
    "tweet_with_emoji_df['label'] = tweet_with_emoji_df[positive_columns].sum(axis=1).map(lambda x: x>=1)"
   ]
  },
  {
   "cell_type": "code",
   "execution_count": null,
   "metadata": {
    "collapsed": false,
    "scrolled": true
   },
   "outputs": [],
   "source": []
  },
  {
   "cell_type": "code",
   "execution_count": 37,
   "metadata": {
    "collapsed": false
   },
   "outputs": [],
   "source": [
    "from sklearn.cross_validation import train_test_split\n",
    "(train_data, test_data) = train_test_split(tweet_with_emoji_df,random_state=0)"
   ]
  },
  {
   "cell_type": "code",
   "execution_count": 11,
   "metadata": {
    "collapsed": false
   },
   "outputs": [],
   "source": [
    "data_samples = train_data.tweet.values\n",
    "# data_samples=np.hstack((train_data.tweet.values, test_data.tweet.values))\n",
    "# data_samples = tweet_with_emoji_df.tweet.values"
   ]
  },
  {
   "cell_type": "code",
   "execution_count": 12,
   "metadata": {
    "collapsed": false
   },
   "outputs": [],
   "source": [
    "# tweet_with_emoji_df.head()\n",
    "# test_data.shape\n"
   ]
  },
  {
   "cell_type": "code",
   "execution_count": 14,
   "metadata": {
    "collapsed": false
   },
   "outputs": [],
   "source": [
    "from __future__ import print_function\n",
    "from time import time\n",
    "\n",
    "from sklearn.feature_extraction.text import TfidfVectorizer, CountVectorizer\n",
    "from sklearn.decomposition import NMF, LatentDirichletAllocation\n",
    "from sklearn.datasets import fetch_20newsgroups"
   ]
  },
  {
   "cell_type": "code",
   "execution_count": 15,
   "metadata": {
    "collapsed": false
   },
   "outputs": [],
   "source": [
    "n_samples = 2000\n",
    "n_features = 1000\n",
    "n_topics = 10\n",
    "n_top_words = 20\n",
    "\n",
    "def print_top_words(model, feature_names, n_top_words):\n",
    "    for topic_idx, topic in enumerate(model.components_):\n",
    "        print(\"Topic #%d:\" % topic_idx)\n",
    "        print(\" \".join([feature_names[i]\n",
    "                        for i in topic.argsort()[:-n_top_words - 1:-1]]))\n",
    "    print()\n",
    "\n"
   ]
  },
  {
   "cell_type": "code",
   "execution_count": 16,
   "metadata": {
    "collapsed": false
   },
   "outputs": [
    {
     "name": "stdout",
     "output_type": "stream",
     "text": [
      "Extracting tf-idf features for NMF...\n",
      "done in 0.614s.\n"
     ]
    }
   ],
   "source": [
    "# Use tf-idf features for NMF.\n",
    "print(\"Extracting tf-idf features for NMF...\")\n",
    "tfidf_vectorizer = TfidfVectorizer(max_df=0.95, min_df=2, #max_features=n_features,\n",
    "                                   stop_words='english')\n",
    "t0 = time()\n",
    "tfidf = tfidf_vectorizer.fit_transform(data_samples)\n",
    "print(\"done in %0.3fs.\" % (time() - t0))"
   ]
  },
  {
   "cell_type": "code",
   "execution_count": 17,
   "metadata": {
    "collapsed": false,
    "scrolled": false
   },
   "outputs": [
    {
     "name": "stdout",
     "output_type": "stream",
     "text": [
      "Extracting tf features for LDA...\n",
      "done in 0.632s.\n",
      "Fitting the NMF model with tf-idf features,n_samples=2000 and n_features=1000...\n",
      "done in 2.034s.\n",
      "\n",
      "Topics in NMF model:\n",
      "Topic #0:\n",
      "love follow laurenfollowspree baby bellletstalk hi facetimemenash omg hey girl make lauren life amp video dream song ya new babe\n",
      "Topic #1:\n",
      "miss man really baby guys friend boyfriend days come brother home gonna hope babe gone amp having soon bae bestfriend\n",
      "Topic #2:\n",
      "know don like feel think really right shit need time let amp lol people wanna follow new make watch got\n",
      "Topic #3:\n",
      "thank god babe boo aw baby haha awesome girl omg awh youuu rt following youuuu oh hope beautiful aww lt\n",
      "Topic #4:\n",
      "happy birthday hope make great makes baby enjoy best bday follow amazing babe year bless girl pretty im time wish\n",
      "Topic #5:\n",
      "day today sleep great hope work valentine bad tomorrow going ve long sad nice really amp school bed ll new\n",
      "Topic #6:\n",
      "thanks follow boo girl following lol man lot rt babe ily hi haha connect hey great oh sharing check appreciate\n",
      "Topic #7:\n",
      "just got wanna need sleep did shit amp say man home lol life let wait oh people thought saw think\n",
      "Topic #8:\n",
      "want really bad don puppy hair baby home rn sleep food work pizza talk leave bed meet long dont sushi\n",
      "Topic #9:\n",
      "good morning night look luck feel hope damn sleep thing feeling really time looking sound sounds girl today god baby\n",
      "\n",
      "Fitting LDA models with tf features, n_samples=2000 and n_features=1000...\n",
      "done in 20.199s.\n",
      "\n",
      "Topics in LDA model:\n",
      "Topic #0:\n",
      "amp going best sorry way talk lmao year live feeling friend class watching amazing away mean hours waiting start hot\n",
      "Topic #1:\n",
      "think people night new better gt week thing makes mad literally haven looking check house weekend just lt hurt freddie\n",
      "Topic #2:\n",
      "miss day thanks thank im follow wish video watch gonna like did new facetimemenash hey guys days ya laurenfollowspree dm\n",
      "Topic #3:\n",
      "like today feel oh come look didn damn stop twitter hair 2016 bitch dont af 30 01 spotted car girls\n",
      "Topic #4:\n",
      "time right work ve omg hate sleep bad school trying gotta friends music little person fun finally food eat tweet\n",
      "Topic #5:\n",
      "know want man let girl just yes god pretty nice rn funny tired sure idk bro dead did read win\n",
      "Topic #6:\n",
      "home tomorrow great phone getting doing just nigga mom beautiful tell having won ok babe kanye help talking head stay\n",
      "Topic #7:\n",
      "love really happy ll wanna birthday like cute don say wait just tho long cause hi ur heart time soon\n",
      "Topic #8:\n",
      "need lol baby hope ass sad rt just good morning hard thought okay sick day gone bellletstalk actually old face\n",
      "Topic #9:\n",
      "don got just good shit make life fuck said fucking tonight ain yeah real 10 anymore money bout believe free\n",
      "\n"
     ]
    }
   ],
   "source": [
    "# Use tf (raw term count) features for LDA.\n",
    "print(\"Extracting tf features for LDA...\")\n",
    "tf_vectorizer = CountVectorizer(max_df=0.95, min_df=2, max_features=n_features,\n",
    "                                stop_words='english')\n",
    "t0 = time()\n",
    "tf = tf_vectorizer.fit_transform(data_samples)\n",
    "print(\"done in %0.3fs.\" % (time() - t0))\n",
    "\n",
    "# Fit the NMF model\n",
    "print(\"Fitting the NMF model with tf-idf features,\"\n",
    "      \"n_samples=%d and n_features=%d...\"\n",
    "      % (n_samples, n_features))\n",
    "t0 = time()\n",
    "nmf = NMF(n_components=n_topics, random_state=1, alpha=.1, l1_ratio=.5).fit(tfidf)\n",
    "\n",
    "print(\"done in %0.3fs.\" % (time() - t0))\n",
    "\n",
    "print(\"\\nTopics in NMF model:\")\n",
    "tfidf_feature_names = tfidf_vectorizer.get_feature_names()\n",
    "print_top_words(nmf, tfidf_feature_names, n_top_words)\n",
    "\n",
    "print(\"Fitting LDA models with tf features, n_samples=%d and n_features=%d...\"\n",
    "      % (n_samples, n_features))\n",
    "lda = LatentDirichletAllocation(n_topics=n_topics, max_iter=5,\n",
    "                                learning_method='online', learning_offset=50.,\n",
    "                                random_state=0)\n",
    "t0 = time()\n",
    "lda.fit(tf)\n",
    "print(\"done in %0.3fs.\" % (time() - t0))\n",
    "\n",
    "print(\"\\nTopics in LDA model:\")\n",
    "tf_feature_names = tf_vectorizer.get_feature_names()\n",
    "print_top_words(lda, tf_feature_names, n_top_words)\n"
   ]
  },
  {
   "cell_type": "code",
   "execution_count": 32,
   "metadata": {
    "collapsed": false
   },
   "outputs": [],
   "source": [
    "# 1-gram with tf-idf\n",
    "train_vect = tfidf_vectorizer.fit_transform(train_data.tweet.values)\n",
    "test_vect = tfidf_vectorizer.transform(test_data.tweet.values)"
   ]
  },
  {
   "cell_type": "code",
   "execution_count": 62,
   "metadata": {
    "collapsed": false
   },
   "outputs": [
    {
     "data": {
      "text/plain": [
       "0.73338381670412922"
      ]
     },
     "execution_count": 62,
     "metadata": {},
     "output_type": "execute_result"
    }
   ],
   "source": [
    "#use logistic regression\n",
    "from sklearn.linear_model import LogisticRegression\n",
    "from sklearn.metrics import roc_auc_score, roc_curve\n",
    "\n",
    "clf = LogisticRegression(C=1, penalty='l2')\n",
    "clf.fit(train_vect, train_data.label)\n",
    "roc_auc_score(test_data.label,clf.predict_proba(test_vect)[:,1])"
   ]
  },
  {
   "cell_type": "code",
   "execution_count": 66,
   "metadata": {
    "collapsed": false
   },
   "outputs": [],
   "source": [
    "# roc curve\n",
    "def plot_roc_curve(label, score):\n",
    "    fpr, tpr, _ = roc_curve(label, score)\n",
    "    plt.figure()\n",
    "    plt.plot(fpr, tpr, label='ROC curve (area = %0.2f)' % roc_auc_score(label,score))\n",
    "    plt.plot([0, 1], [0, 1], 'k--')\n",
    "    plt.xlim([0.0, 1.0])\n",
    "    plt.ylim([0.0, 1.05])\n",
    "    plt.xlabel('False Positive Rate')\n",
    "    plt.ylabel('True Positive Rate')\n",
    "    plt.title('Receiver operating characteristic example')\n",
    "    plt.legend(loc=\"lower right\")\n",
    "    plt.show()\n"
   ]
  },
  {
   "cell_type": "code",
   "execution_count": 67,
   "metadata": {
    "collapsed": false
   },
   "outputs": [
    {
     "data": {
      "image/png": "[encoded data removed]",
      "text/plain": [
       "<matplotlib.figure.Figure at 0x7fa21c18aad0>"
      ]
     },
     "metadata": {},
     "output_type": "display_data"
    }
   ],
   "source": [
    "plot_roc_curve(test_data.label,clf.predict_proba(test_vect)[:,1])"
   ]
  },
  {
   "cell_type": "code",
   "execution_count": null,
   "metadata": {
    "collapsed": true
   },
   "outputs": [],
   "source": []
  },
  {
   "cell_type": "code",
   "execution_count": 69,
   "metadata": {
    "collapsed": false
   },
   "outputs": [],
   "source": [
    "# 1-gram with NO tf-idf\n",
    "train_vect = tf_vectorizer.fit_transform(train_data.tweet.values)\n",
    "test_vect = tf_vectorizer.transform(test_data.tweet.values)\n"
   ]
  },
  {
   "cell_type": "code",
   "execution_count": 79,
   "metadata": {
    "collapsed": false
   },
   "outputs": [
    {
     "data": {
      "image/png": "[encoded data removed]",
      "text/plain": [
       "<matplotlib.figure.Figure at 0x7fa1fcccccd0>"
      ]
     },
     "metadata": {},
     "output_type": "display_data"
    }
   ],
   "source": [
    "clf = LogisticRegression(C=0.1, penalty='l2')\n",
    "clf.fit(train_vect, train_data.label)\n",
    "plot_roc_curve(test_data.label,clf.predict_proba(test_vect)[:,1])"
   ]
  },
  {
   "cell_type": "code",
   "execution_count": null,
   "metadata": {
    "collapsed": false
   },
   "outputs": [],
   "source": [
    "from sklearn.ensemble import RandomForestClassifier\n",
    "from sklearn.pipeline import Pipeline\n",
    "import sklearn\n",
    "clf = Pipeline([('k_best',sklearn.feature_selection.SelectKBest(k=1000)),\n",
    "        ('clf',RandomForestClassifier(n_estimators=1000, max_depth=5))])\n",
    "clf.fit(train_vect, train_data.label)\n",
    "plot_roc_curve(test_data.label,clf.predict_proba(test_vect)[:,1])"
   ]
  },
  {
   "cell_type": "code",
   "execution_count": null,
   "metadata": {
    "collapsed": true
   },
   "outputs": [],
   "source": []
  },
  {
   "cell_type": "code",
   "execution_count": null,
   "metadata": {
    "collapsed": true
   },
   "outputs": [],
   "source": []
  },
  {
   "cell_type": "code",
   "execution_count": null,
   "metadata": {
    "collapsed": true
   },
   "outputs": [],
   "source": []
  }
 ],
 "metadata": {
  "kernelspec": {
   "display_name": "Python 2",
   "language": "python",
   "name": "python2"
  },
  "language_info": {
   "codemirror_mode": {
    "name": "ipython",
    "version": 2
   },
   "file_extension": ".py",
   "mimetype": "text/x-python",
   "name": "python",
   "nbconvert_exporter": "python",
   "pygments_lexer": "ipython2",
   "version": "2.7.11"
  }
 },
 "nbformat": 4,
 "nbformat_minor": 0
}
