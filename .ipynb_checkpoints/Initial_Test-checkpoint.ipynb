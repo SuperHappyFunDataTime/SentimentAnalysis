{
 "cells": [
  {
   "cell_type": "code",
   "execution_count": 12,
   "metadata": {
    "collapsed": false
   },
   "outputs": [
    {
     "name": "stderr",
     "output_type": "stream",
     "text": [
      "/home/ubuntu/anaconda2/lib/python2.7/site-packages/matplotlib/__init__.py:872: UserWarning: axes.color_cycle is deprecated and replaced with axes.prop_cycle; please use the latter.\n",
      "  warnings.warn(self.msg_depr % (key, alt_key))\n"
     ]
    }
   ],
   "source": [
    "%matplotlib inline\n",
    "import matplotlib\n",
    "import seaborn as sns\n",
    "matplotlib.rcParams['savefig.dpi'] = 2 * matplotlib.rcParams['savefig.dpi']"
   ]
  },
  {
   "cell_type": "markdown",
   "metadata": {},
   "source": [
    "This is created based on \n",
    "\n",
    "http://streamhacker.com/2010/05/10/text-classification-sentiment-analysis-naive-bayes-classifier/\n"
   ]
  },
  {
   "cell_type": "code",
   "execution_count": null,
   "metadata": {
    "collapsed": false
   },
   "outputs": [],
   "source": [
    "\n",
    "import nltk.classify.util\n",
    "from nltk.classify import NaiveBayesClassifier\n",
    "from nltk.corpus import movie_reviews\n",
    " \n",
    "def word_feats(words):\n",
    "    return dict([(word, True) for word in words])\n",
    " \n",
    "negids = movie_reviews.fileids('neg')\n",
    "posids = movie_reviews.fileids('pos')\n",
    " \n",
    "negfeats = [(word_feats(movie_reviews.words(fileids=[f])), 'neg') for f in negids]\n",
    "posfeats = [(word_feats(movie_reviews.words(fileids=[f])), 'pos') for f in posids]\n",
    " \n",
    "negcutoff = len(negfeats)*3/4\n",
    "poscutoff = len(posfeats)*3/4\n",
    " \n",
    "trainfeats = negfeats[:negcutoff] + posfeats[:poscutoff]\n",
    "testfeats = negfeats[negcutoff:] + posfeats[poscutoff:]\n",
    "print 'train on %d instances, test on %d instances' % (len(trainfeats), len(testfeats))\n",
    " \n",
    "classifier = NaiveBayesClassifier.train(trainfeats)\n",
    "print 'accuracy:', nltk.classify.util.accuracy(classifier, testfeats)\n",
    "classifier.show_most_informative_features()"
   ]
  },
  {
   "cell_type": "code",
   "execution_count": null,
   "metadata": {
    "collapsed": false
   },
   "outputs": [],
   "source": [
    "import collections, itertools\n",
    "import nltk.classify.util, nltk.metrics\n",
    "from nltk.classify import NaiveBayesClassifier\n",
    "from nltk.corpus import movie_reviews, stopwords\n",
    "from nltk.collocations import BigramCollocationFinder\n",
    "from nltk.metrics import BigramAssocMeasures\n",
    "from nltk.probability import FreqDist, ConditionalFreqDist\n",
    " \n",
    "def evaluate_classifier(featx):\n",
    "    negids = movie_reviews.fileids('neg')\n",
    "    posids = movie_reviews.fileids('pos')\n",
    " \n",
    "    negfeats = [(featx(movie_reviews.words(fileids=[f])), 'neg') for f in negids]\n",
    "    posfeats = [(featx(movie_reviews.words(fileids=[f])), 'pos') for f in posids]\n",
    " \n",
    "    negcutoff = len(negfeats)*3/4\n",
    "    poscutoff = len(posfeats)*3/4\n",
    " \n",
    "    trainfeats = negfeats[:negcutoff] + posfeats[:poscutoff]\n",
    "    testfeats = negfeats[negcutoff:] + posfeats[poscutoff:]\n",
    " \n",
    "    classifier = NaiveBayesClassifier.train(trainfeats)\n",
    "    refsets = collections.defaultdict(set)\n",
    "    testsets = collections.defaultdict(set)\n",
    " \n",
    "    for i, (feats, label) in enumerate(testfeats):\n",
    "            refsets[label].add(i)\n",
    "            observed = classifier.classify(feats)\n",
    "            testsets[observed].add(i)\n",
    " \n",
    "    print 'accuracy:', nltk.classify.util.accuracy(classifier, testfeats)\n",
    "    print 'pos precision:', nltk.scores.precision(refsets['pos'], testsets['pos'])\n",
    "    print 'pos recall:', nltk.scores.recall(refsets['pos'], testsets['pos'])\n",
    "    print 'neg precision:', nltk.scores.precision(refsets['neg'], testsets['neg'])\n",
    "    print 'neg recall:', nltk.scores.recall(refsets['neg'], testsets['neg'])\n",
    "    classifier.show_most_informative_features()\n",
    "\n",
    "def word_feats(words):\n",
    "    return dict([(word, True) for word in words])\n",
    " \n",
    "print 'evaluating single word features'\n",
    "evaluate_classifier(word_feats)\n",
    " \n"
   ]
  },
  {
   "cell_type": "code",
   "execution_count": null,
   "metadata": {
    "collapsed": false
   },
   "outputs": [],
   "source": [
    "# Dont run the following!\n",
    "# word_fd = FreqDist()\n",
    "# label_word_fd = ConditionalFreqDist()\n",
    " \n",
    "# for word in movie_reviews.words(categories=['pos']):\n",
    "# #     word_fd.inc(word.lower())\n",
    "#     word_fd[word.lower()] += 1\n",
    "#     label_word_fd['pos'][(word.lower())] +=1\n",
    "# #     label_word_fd['pos'].inc(word.lower())\n",
    "\n",
    "# for word in movie_reviews.words(categories=['neg']):\n",
    "# #     word_fd.inc(word.lower())\n",
    "#     word_fd[word.lower()] += 1\n",
    "#     label_word_fd['neg'][(word.lower())] +=1\n",
    "\n",
    "# #     label_word_fd['neg'].inc(word.lower())\n",
    "    \n",
    "# # n_ii = label_word_fd[label][word]\n",
    "# # n_ix = word_fd[word]\n",
    "# # n_xi = label_word_fd[label].N()\n",
    "# # n_xx = label_word_fd.N()\n",
    " \n",
    "# pos_word_count = label_word_fd['pos'].N()\n",
    "# neg_word_count = label_word_fd['neg'].N()\n",
    "# total_word_count = pos_word_count + neg_word_count\n",
    " \n",
    "# word_scores = {}\n",
    " \n",
    "# for word, freq in word_fd.iteritems():\n",
    "#     pos_score = BigramAssocMeasures.chi_sq(label_word_fd['pos'][word],\n",
    "#         (freq, pos_word_count), total_word_count)\n",
    "#     neg_score = BigramAssocMeasures.chi_sq(label_word_fd['neg'][word],\n",
    "#         (freq, neg_word_count), total_word_count)\n",
    "#     word_scores[word] = pos_score + neg_score\n",
    "\n",
    "\n",
    "# best = sorted(word_scores.iteritems(), key=lambda (w,s): s, reverse=True)[:10000]\n",
    "# bestwords = set([w for w, s in best])\n",
    " \n",
    "# def best_word_feats(words):\n",
    "#     return dict([(word, True) for word in words if word in bestwords])\n",
    " \n",
    "# print 'evaluating best word features'\n",
    "# evaluate_classifier(best_word_feats)\n",
    " \n",
    "# def best_bigram_word_feats(words, score_fn=BigramAssocMeasures.chi_sq, n=200):\n",
    "#     bigram_finder = BigramCollocationFinder.from_words(words)\n",
    "#     bigrams = bigram_finder.nbest(score_fn, n)\n",
    "#     d = dict([(bigram, True) for bigram in bigrams])\n",
    "#     d.update(best_word_feats(words))\n",
    "#     return d\n",
    " \n",
    "# print 'evaluating best words + bigram chi_sq word features'\n",
    "# evaluate_classifier(best_bigram_word_feats)"
   ]
  },
  {
   "cell_type": "code",
   "execution_count": 19,
   "metadata": {
    "collapsed": false
   },
   "outputs": [
    {
     "name": "stdout",
     "output_type": "stream",
     "text": [
      ":-)\n",
      ":)\n",
      ":o)\n",
      ":]\n",
      ":3\n",
      ":c)\n",
      ":D\n",
      "C:\n",
      "☺\n",
      "😀\n",
      "😁\n",
      "😂\n",
      "😃\n",
      "😄\n",
      "😆\n",
      "😊\n",
      "😋\n",
      "😍\n",
      "😎\n",
      "😇\n",
      "😗\n",
      "😘\n",
      "🙂\n",
      "😸\n"
     ]
    }
   ],
   "source": [
    "import Data\n",
    "from Data.sentiment_dict import positive, negative\n",
    "from Data.emoji_list import emojis\n",
    "for i in positive:\n",
    "    print i"
   ]
  },
  {
   "cell_type": "code",
   "execution_count": 20,
   "metadata": {
    "collapsed": false
   },
   "outputs": [
    {
     "name": "stdout",
     "output_type": "stream",
     "text": [
      ":-(\n",
      ":(\n",
      ":c\n",
      ":[\n",
      "D8\n",
      "D;\n",
      "D=\n",
      "DX\n",
      "v.v\n",
      "☹\n",
      "😌\n",
      "😓\n",
      "😔\n",
      "😕\n",
      "😖\n",
      "😡\n",
      "😢\n",
      "😣\n",
      "😤\n",
      "😥\n",
      "😦\n",
      "😧\n",
      "😨\n",
      "😩\n",
      "😰\n",
      "😱\n",
      "🙁\n"
     ]
    }
   ],
   "source": [
    "for i in negative:\n",
    "    print i"
   ]
  },
  {
   "cell_type": "code",
   "execution_count": null,
   "metadata": {
    "collapsed": false
   },
   "outputs": [],
   "source": []
  },
  {
   "cell_type": "code",
   "execution_count": null,
   "metadata": {
    "collapsed": true
   },
   "outputs": [],
   "source": []
  }
 ],
 "metadata": {
  "kernelspec": {
   "display_name": "Python 2",
   "language": "python",
   "name": "python2"
  },
  "language_info": {
   "codemirror_mode": {
    "name": "ipython",
    "version": 2
   },
   "file_extension": ".py",
   "mimetype": "text/x-python",
   "name": "python",
   "nbconvert_exporter": "python",
   "pygments_lexer": "ipython2",
   "version": "2.7.11"
  }
 },
 "nbformat": 4,
 "nbformat_minor": 0
}
