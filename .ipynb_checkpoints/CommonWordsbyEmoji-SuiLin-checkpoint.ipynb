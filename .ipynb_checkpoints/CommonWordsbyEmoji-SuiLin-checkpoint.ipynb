{
 "cells": [
  {
   "cell_type": "code",
   "execution_count": 28,
   "metadata": {
    "collapsed": false
   },
   "outputs": [],
   "source": [
    "from IPython.core.display import HTML, display\n",
    "HTML(\"<style>.container { width:100% !important; }</style>\")\n",
    "%matplotlib inline\n",
    "import matplotlib\n",
    "import matplotlib.pyplot as plt\n",
    "import seaborn as sns\n",
    "matplotlib.rcParams['savefig.dpi'] = 2 * matplotlib.rcParams['savefig.dpi']"
   ]
  },
  {
   "cell_type": "code",
   "execution_count": 36,
   "metadata": {
    "collapsed": false
   },
   "outputs": [],
   "source": [
    "import operator\n",
    "import pandas as pd\n",
    "import numpy as np\n",
    "from Data.sentiment_dict import positive, negative\n",
    "from sklearn.feature_extraction import DictVectorizer\n",
    "from nltk.corpus import stopwords\n",
    "pd.options.display.max_colwidth=250"
   ]
  },
  {
   "cell_type": "code",
   "execution_count": 46,
   "metadata": {
    "collapsed": false
   },
   "outputs": [],
   "source": [
    "# separate tweet into parts with emojis of interest and the rest\n",
    "def contain_emoji(tweet, emojis):\n",
    "    tweet_emoji = set(tweet).intersection(emojis)\n",
    "    if len(tweet_emoji) == 0:\n",
    "        return False\n",
    "    return True\n",
    "\n",
    "def filter_emoji(tweet, emojis):\n",
    "    text = ''\n",
    "    for i in tweet:\n",
    "        if i not in emojis:\n",
    "            text += i\n",
    "    return text\n",
    "\n",
    "def filter_stop(text, stop_words):\n",
    "    #return [word for word in text.split()]\n",
    "    return [word for word in text.split() if word.lower() not in stop_words]"
   ]
  },
  {
   "cell_type": "code",
   "execution_count": 5,
   "metadata": {
    "collapsed": true
   },
   "outputs": [],
   "source": [
    "# specify the location of the tweets\n",
    "negtweet_file ='./Data/negtweets.txt'\n",
    "postweet_file ='./Data/postweets.txt'"
   ]
  },
  {
   "cell_type": "code",
   "execution_count": 60,
   "metadata": {
    "collapsed": false
   },
   "outputs": [
    {
     "name": "stdout",
     "output_type": "stream",
     "text": [
      "Top 20 Positive Words\n",
      "(u'love', 1181)\n",
      "(u'like', 979)\n",
      "(u'get', 624)\n",
      "(u'know', 571)\n",
      "(u\"don't\", 565)\n",
      "(u'&amp;', 538)\n",
      "(u'got', 467)\n",
      "(u'u', 460)\n",
      "(u'one', 432)\n",
      "(u'good', 395)\n",
      "(u'shit', 390)\n",
      "(u'go', 389)\n",
      "(u'see', 356)\n",
      "(u'thank', 347)\n",
      "(u'much', 343)\n",
      "(u'happy', 335)\n",
      "(u'new', 330)\n",
      "(u'lol', 330)\n",
      "(u'really', 314)\n",
      "(u\"can't\", 309)\n",
      "\n",
      "Top 20 Negative Words\n",
      "(u'like', 977)\n",
      "(u'get', 833)\n",
      "(u\"don't\", 741)\n",
      "(u'want', 664)\n",
      "(u'miss', 641)\n",
      "(u'go', 622)\n",
      "(u\"can't\", 599)\n",
      "(u'&amp;', 583)\n",
      "(u'need', 577)\n",
      "(u'love', 556)\n",
      "(u'really', 490)\n",
      "(u'know', 463)\n",
      "(u'much', 442)\n",
      "(u'one', 441)\n",
      "(u'feel', 399)\n",
      "(u'got', 399)\n",
      "(u'day', 391)\n",
      "(u'back', 383)\n",
      "(u'wanna', 348)\n",
      "(u'work', 337)\n"
     ]
    }
   ],
   "source": [
    "# The words in the tweets that contain positive emoji and their count. We only count the word once even if the word appears\n",
    "# multiple times in a tweet.\n",
    "positive_word_count = {}\n",
    "# The words in the tweets that contain positive emoji and their count. We only count the word once even if the word appears\n",
    "# multiple times in a tweet.\n",
    "negative_word_count = {}\n",
    "\n",
    "all_emojis = positive + negative\n",
    "#stop_words=stopwords.words(\"english\")\n",
    "stop_words = set(stopwords.words(\"english\"))\n",
    "added_stop_words = [\"i'm\", \"it's\"]\n",
    "stop_words.update(added_stop_words)\n",
    "\n",
    "ii = 0\n",
    "with open(postweet_file,'r') as f:\n",
    "    for line in f:\n",
    "        # For testing purpose, only process a limited number of tweets in the file.\n",
    "        #if ii >= 200:\n",
    "         # break\n",
    "        #ii = ii +1\n",
    "        \n",
    "        tweet = line.decode('utf-8')\n",
    "        # Process the tweet that contains positive emoji.\n",
    "        if contain_emoji(tweet, positive):\n",
    "            text_without_emoji = filter_emoji(tweet, all_emojis)\n",
    "            text_without_stop = filter_stop(text_without_emoji, stop_words)\n",
    "            for word in set(text_without_stop):\n",
    "                if word not in positive_word_count:\n",
    "                    positive_word_count[word] = 1\n",
    "                else: \n",
    "                    positive_word_count[word] += 1\n",
    "                    \n",
    "        # Process the tweet that contains negative emoji.            \n",
    "        if contain_emoji(tweet, negative):\n",
    "            text_without_emoji = filter_emoji(tweet, all_emojis)\n",
    "            text_without_stop = filter_stop(text_without_emoji, stop_words)\n",
    "            for word in set(text_without_stop):\n",
    "                if word not in negative_word_count:\n",
    "                    negative_word_count[word] = 1\n",
    "                else: \n",
    "                    negative_word_count[word] += 1\n",
    "    \n",
    "# load all the tweets from negative file\n",
    "ii = 0\n",
    "with open(negtweet_file,'r') as f:\n",
    "    for line in f:\n",
    "        # For testing purpose, only process a limited number of tweets in the file.\n",
    "        # if ii >= 200:\n",
    "        #    break\n",
    "        #ii = ii +1\n",
    "        \n",
    "        tweet = line.decode('utf-8')\n",
    "        \n",
    "        # Process the tweet that contains positive emoji.\n",
    "        if contain_emoji(tweet, positive):\n",
    "            text_without_emoji = filter_emoji(tweet, all_emojis)\n",
    "            text_without_stop = filter_stop(text_without_emoji, stop_words)\n",
    "            for word in set(text_without_stop):\n",
    "                if word not in positive_word_count:\n",
    "                    positive_word_count[word] = 1\n",
    "                else: \n",
    "                    positive_word_count[word] += 1\n",
    "                    \n",
    "        # Process the tweet that contains negative emoji.\n",
    "        if contain_emoji(tweet, negative):\n",
    "            text_without_emoji = filter_emoji(tweet, all_emojis)\n",
    "            text_without_stop = filter_stop(text_without_emoji, stop_words)\n",
    "            for word in set(text_without_stop):\n",
    "                if word not in negative_word_count:\n",
    "                    negative_word_count[word] = 1\n",
    "                else: \n",
    "                    negative_word_count[word] += 1\n",
    "    \n",
    "#print \"Positive Word Count\"\n",
    "#print positive_word_count\n",
    "#print \"\\nNegative Word Count\"\n",
    "#print negative_word_count\n",
    "\n",
    "\n",
    "# Sort the positive and negative words based on their counts.\n",
    "# sorted in descending order using \"reverse = true\"\n",
    "sorted_positive_words = sorted(positive_word_count.items(), key=operator.itemgetter(1), reverse=True)\n",
    "#print \"\\nSorted Positive Word Count\"\n",
    "#print sorted_positive_words\n",
    "print (\"Top 20 Positive Words\")\n",
    "ii = 0\n",
    "for word in sorted_positive_words: \n",
    "    if ii >= 20:\n",
    "        break\n",
    "    ii +=1\n",
    "    \n",
    "    print word\n",
    "\n",
    "sorted_negative_words = sorted(negative_word_count.items(), key=operator.itemgetter(1), reverse=True)\n",
    "print (\"\\nTop 20 Negative Words\")\n",
    "ii = 0\n",
    "for word in sorted_negative_words: \n",
    "    if ii >= 20:\n",
    "        break\n",
    "    ii +=1\n",
    "    \n",
    "    print word\n",
    "\n",
    "#print \"\\nSorted Negative Word Count\"\n",
    "#print sorted_negative_words\n",
    "\n",
    "\n"
   ]
  },
  {
   "cell_type": "code",
   "execution_count": 6,
   "metadata": {
    "collapsed": false
   },
   "outputs": [],
   "source": [
    "# combine tweet_df with emoji_df\n",
    "tweet_with_emoji_df = tweet_df.copy()\n",
    "tweet_with_emoji_df[emoji_df.columns] = emoji_df.copy()"
   ]
  },
  {
   "cell_type": "code",
   "execution_count": 7,
   "metadata": {
    "collapsed": false
   },
   "outputs": [],
   "source": [
    "# tweet_with_emoji_df.head()"
   ]
  },
  {
   "cell_type": "code",
   "execution_count": 8,
   "metadata": {
    "collapsed": false
   },
   "outputs": [],
   "source": [
    "from __future__ import print_function\n",
    "from time import time\n",
    "\n",
    "from sklearn.feature_extraction.text import TfidfVectorizer, CountVectorizer\n",
    "from sklearn.decomposition import NMF, LatentDirichletAllocation\n",
    "from sklearn.datasets import fetch_20newsgroups"
   ]
  },
  {
   "cell_type": "code",
   "execution_count": 9,
   "metadata": {
    "collapsed": false
   },
   "outputs": [],
   "source": [
    "n_samples = 2000\n",
    "n_features = 1000\n",
    "n_topics = 10\n",
    "n_top_words = 20\n",
    "\n",
    "\n",
    "def print_top_words(model, feature_names, n_top_words):\n",
    "    for topic_idx, topic in enumerate(model.components_):\n",
    "        print(\"Topic #%d:\" % topic_idx)\n",
    "        print(\" \".join([feature_names[i]\n",
    "                        for i in topic.argsort()[:-n_top_words - 1:-1]]))\n",
    "    print()\n",
    "\n",
    "data_samples = tweet_df.tweet.values"
   ]
  },
  {
   "cell_type": "code",
   "execution_count": 10,
   "metadata": {
    "collapsed": false
   },
   "outputs": [
    {
     "name": "stdout",
     "output_type": "stream",
     "text": [
      "Extracting tf-idf features for NMF...\n",
      "done in 0.833s.\n"
     ]
    }
   ],
   "source": [
    "# Use tf-idf features for NMF.\n",
    "print(\"Extracting tf-idf features for NMF...\")\n",
    "tfidf_vectorizer = TfidfVectorizer(max_df=0.95, min_df=2, #max_features=n_features,\n",
    "                                   stop_words='english')\n",
    "t0 = time()\n",
    "tfidf = tfidf_vectorizer.fit_transform(data_samples)\n",
    "print(\"done in %0.3fs.\" % (time() - t0))"
   ]
  },
  {
   "cell_type": "code",
   "execution_count": 11,
   "metadata": {
    "collapsed": false
   },
   "outputs": [
    {
     "name": "stdout",
     "output_type": "stream",
     "text": [
      "Extracting tf features for LDA...\n",
      "done in 0.812s.\n",
      "Fitting the NMF model with tf-idf features,n_samples=2000 and n_features=1000...\n",
      "done in 2.945s.\n",
      "\n",
      "Topics in NMF model:\n",
      "Topic #0:\n",
      "love follow laurenfollowspree baby bellletstalk omg hi facetimemenash make amp hey lauren girl life ya dream song video beautiful nash\n",
      "Topic #1:\n",
      "miss baby man boyfriend really guys days friend home babe gonna come brother amp going soon hair best bae old\n",
      "Topic #2:\n",
      "thank god babe omg boo aw girl baby sweet youuu awh haha awe rt follow ok youu awesome oh beautiful\n",
      "Topic #3:\n",
      "good morning day night today sleep hope look luck feel thing really feeling looks damn great time bad looking girl\n",
      "Topic #4:\n",
      "thanks follow girl boo following rt lol lot man oh babe haha hey hi ily great sharing laurenfollowspree check connect\n",
      "Topic #5:\n",
      "need sleep really new right stop help phone hair nails life friends come massage nap amp asap house rn hug\n",
      "Topic #6:\n",
      "just want really wanna sleep got bad home did today amp baby work day man life don people say ll\n",
      "Topic #7:\n",
      "know don let think right lol did didn hi ll plz dont time people yeah bi0 6s mean thx ion\n",
      "Topic #8:\n",
      "happy birthday day hope great make makes best bday enjoy follow today amazing baby girl wish beautiful bless year tomorrow\n",
      "Topic #9:\n",
      "like don feel shit think really new video watch amp facetimemenash time look people got follow hate wanna subscribe make\n",
      "\n",
      "Fitting LDA models with tf features, n_samples=2000 and n_features=1000...\n",
      "done in 25.963s.\n",
      "\n",
      "Topics in LDA model:\n",
      "Topic #0:\n",
      "shit ve sad like gonna way fucking tired real ain morning thought gone watching missing play looking eat looks talking\n",
      "Topic #1:\n",
      "want really good people night ll thank thanks sorry fuck tonight 01 hair spotted rn crazy left went song boy\n",
      "Topic #2:\n",
      "just happy hate wish lol birthday guys makes gt okay live bitch haven big literally person head class money world\n",
      "Topic #3:\n",
      "love think sleep follow life let wait phone long days heart having know old lmao hey idk hi time 10\n",
      "Topic #4:\n",
      "don today time im bad getting ass school week year sick trying feeling yes car wrong weekend hungry start ok\n",
      "Topic #5:\n",
      "amp going new baby cute best watch video like talk friends won twitter dont ready doesn friend af bc house\n",
      "Topic #6:\n",
      "day feel make come better rt thing cause ur face anymore food help beautiful things check finally years pls thinking\n",
      "Topic #7:\n",
      "like need got just right home didn girl tomorrow say said tho doing mom bed nigga does lt coming leave\n",
      "Topic #8:\n",
      "know work man oh did hope don damn stop 2016 hard little god great away actually nice making dad end\n",
      "Topic #9:\n",
      "miss wanna omg 30 gotta tell yeah look soon pretty hurt mad game hours music try believe worst cold waiting\n",
      "\n"
     ]
    }
   ],
   "source": [
    "# Use tf (raw term count) features for LDA.\n",
    "print(\"Extracting tf features for LDA...\")\n",
    "tf_vectorizer = CountVectorizer(max_df=0.95, min_df=2, max_features=n_features,\n",
    "                                stop_words='english')\n",
    "t0 = time()\n",
    "tf = tf_vectorizer.fit_transform(data_samples)\n",
    "print(\"done in %0.3fs.\" % (time() - t0))\n",
    "\n",
    "# Fit the NMF model\n",
    "print(\"Fitting the NMF model with tf-idf features,\"\n",
    "      \"n_samples=%d and n_features=%d...\"\n",
    "      % (n_samples, n_features))\n",
    "t0 = time()\n",
    "nmf = NMF(n_components=n_topics, random_state=1, alpha=.1, l1_ratio=.5).fit(tfidf)\n",
    "\n",
    "print(\"done in %0.3fs.\" % (time() - t0))\n",
    "\n",
    "print(\"\\nTopics in NMF model:\")\n",
    "tfidf_feature_names = tfidf_vectorizer.get_feature_names()\n",
    "print_top_words(nmf, tfidf_feature_names, n_top_words)\n",
    "\n",
    "print(\"Fitting LDA models with tf features, n_samples=%d and n_features=%d...\"\n",
    "      % (n_samples, n_features))\n",
    "lda = LatentDirichletAllocation(n_topics=n_topics, max_iter=5,\n",
    "                                learning_method='online', learning_offset=50.,\n",
    "                                random_state=0)\n",
    "t0 = time()\n",
    "lda.fit(tf)\n",
    "print(\"done in %0.3fs.\" % (time() - t0))\n",
    "\n",
    "print(\"\\nTopics in LDA model:\")\n",
    "tf_feature_names = tf_vectorizer.get_feature_names()\n",
    "print_top_words(lda, tf_feature_names, n_top_words)\n"
   ]
  },
  {
   "cell_type": "code",
   "execution_count": null,
   "metadata": {
    "collapsed": true
   },
   "outputs": [],
   "source": []
  }
 ],
 "metadata": {
  "kernelspec": {
   "display_name": "Python 2",
   "language": "python",
   "name": "python2"
  },
  "language_info": {
   "codemirror_mode": {
    "name": "ipython",
    "version": 2
   },
   "file_extension": ".py",
   "mimetype": "text/x-python",
   "name": "python",
   "nbconvert_exporter": "python",
   "pygments_lexer": "ipython2",
   "version": "2.7.11"
  }
 },
 "nbformat": 4,
 "nbformat_minor": 0
}
