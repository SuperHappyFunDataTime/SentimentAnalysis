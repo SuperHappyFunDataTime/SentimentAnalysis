{
 "cells": [
  {
   "cell_type": "code",
   "execution_count": 1,
   "metadata": {
    "collapsed": true
   },
   "outputs": [],
   "source": [
    "from IPython.core.display import HTML, display\n",
    "HTML(\"<style>.container { width:100% !important; }</style>\")\n",
    "%matplotlib inline\n",
    "import matplotlib\n",
    "import matplotlib.pyplot as plt\n",
    "#import seaborn as sns\n",
    "matplotlib.rcParams['savefig.dpi'] = 2 * matplotlib.rcParams['savefig.dpi']"
   ]
  },
  {
   "cell_type": "code",
   "execution_count": 2,
   "metadata": {
    "collapsed": true
   },
   "outputs": [],
   "source": [
    "import operator\n",
    "#import pandas as pd\n",
    "import numpy as np\n",
    "from Data.sentiment_dict import positive, negative\n",
    "#from sklearn.feature_extraction import DictVectorizer\n",
    "from nltk.corpus import stopwords\n",
    "#pd.options.display.max_colwidth=250"
   ]
  },
  {
   "cell_type": "code",
   "execution_count": 7,
   "metadata": {
    "collapsed": false
   },
   "outputs": [],
   "source": [
    "# separate tweet into parts with emojis of interest and the rest\n",
    "def contain_emoji(tweet, emojis):\n",
    "    tweet_emoji = set(tweet).intersection(emojis)\n",
    "    if len(tweet_emoji) == 0:\n",
    "        return False\n",
    "    return True\n",
    "\n",
    "def filter_emoji(tweet, emojis):\n",
    "    text = ''\n",
    "    for i in tweet:\n",
    "        if i not in emojis:\n",
    "            text += i\n",
    "    return text\n",
    "\n",
    "def filter_stop(word_list, stop_words):\n",
    "    # Return the words that are not contained in 'stop_words'.\n",
    "    return [word for word in word_list if word.lower() not in stop_words]\n",
    "\n",
    "def convert_to_ngrams(text, n):    # num_ngrams = number of ngrams given user-defined n  e.g. n=1 unigrams; n=2 bigrams\n",
    "    num_ngrams=len(word_list) - n + 1\n",
    "    ngram_list = []\n",
    "    # i = location of ngram's starting word in word list / tweet\n",
    "    for i in range (0, num_ngrams):\n",
    "        # j = index of word in ngram\n",
    "        ngram = word_list[i + j]\n",
    "        for j in range (1, n):\n",
    "            ngram += \" \" + word_list[i + j]\n",
    "        ngram_list.append(ngram)\n",
    "    return ngram_list"
   ]
  },
  {
   "cell_type": "code",
   "execution_count": 4,
   "metadata": {
    "collapsed": false
   },
   "outputs": [
    {
     "name": "stdout",
     "output_type": "stream",
     "text": [
      "Running...\n"
     ]
    }
   ],
   "source": [
    "# specify the location of the tweets\n",
    "negtweet_file ='./Data/negtweets.txt'\n",
    "postweet_file ='./Data/postweets.txt'"
   ]
  },
  {
   "cell_type": "code",
   "execution_count": null,
   "metadata": {
    "collapsed": true
   },
   "outputs": [],
   "source": [
    "# The words in the tweets that contain positive emoji and their count. We only count the word once even if the word appears\n",
    "# multiple times in a tweet.\n",
    "positive_ngram_count = {}\n",
    "# The words in the tweets that contain positive emoji and their count. We only count the word once even if the word appears\n",
    "# multiple times in a tweet.\n",
    "negative_ngram_count = {}\n",
    "\n",
    "all_emojis = positive + negative\n",
    "#stop_words=stopwords.words(\"english\")\n",
    "stop_words = set(stopwords.words(\"english\"))\n",
    "added_stop_words = [\"i'm\", \"it's\"]\n",
    "stop_words.update(added_stop_words)\n",
    "\n",
    "ii = 0\n",
    "ngram_n = 1\n",
    "# load all the tweets from negative file\n",
    "with open(postweet_file,'r') as f:\n",
    "    for line in f:\n",
    "        # For testing purpose, only process a limited number of tweets in the file.\n",
    "        #if ii >= 200:\n",
    "         # break\n",
    "        #ii = ii +1\n",
    "        \n",
    "        tweet = line.decode('utf-8')\n",
    "        # Process the tweet that contains positive emoji.\n",
    "        if contain_emoji(tweet, positive):\n",
    "            text_without_emoji = filter_emoji(tweet, all_emojis)\n",
    "            ngram_list = convert_to_ngrams(text_without_emoji, ngram_n)\n",
    "            # only filter stop words for unigrams i.e. ngram_n=1\n",
    "            if ngram_n == 1:\n",
    "                ngram_list = filter_stop(ngram_list, stop_words)\n",
    "            for ngram in set(ngram_list):\n",
    "                if ngram not in positive_ngram_count:\n",
    "                    positive_ngram_count[ngram] = 1\n",
    "                else: \n",
    "                    positive_ngram_count[ngram] += 1\n",
    "                    \n",
    "        # Process the tweet that contains negative emoji.            \n",
    "        if contain_emoji(tweet, negative):\n",
    "            text_without_emoji = filter_emoji(tweet, all_emojis)\n",
    "            ngram_list = convert_to_ngrams(text_without_emoji, ngram_n)\n",
    "            if ngram_n == 1:\n",
    "                ngram_list = filter_stop(ngram_list, stop_words)\n",
    "            for ngram in set(ngram_list):\n",
    "                if word not in negative_ngram_count:\n",
    "                    negative_ngram_count[ngram] = 1\n",
    "                else: \n",
    "                    negative_ngram_count[ngram] += 1\n",
    "    \n",
    "# load all the tweets from negative file\n",
    "ii = 0\n",
    "with open(negtweet_file,'r') as f:\n",
    "    for line in f:\n",
    "        # For testing purpose, only process a limited number of tweets in the file.\n",
    "        # if ii >= 200:\n",
    "        #    break\n",
    "        #ii = ii +1\n",
    "        \n",
    "        tweet = line.decode('utf-8')\n",
    "        \n",
    "         # Process the tweet that contains positive emoji.\n",
    "        if contain_emoji(tweet, positive):\n",
    "            text_without_emoji = filter_emoji(tweet, all_emojis)\n",
    "            ngram_list = convert_to_ngrams(text_without_emoji, ngram_n)\n",
    "            # only filter stop words for unigrams i.e. ngram_n=1\n",
    "            if ngram_n == 1:\n",
    "                ngram_list = filter_stop(ngram_list, stop_words)\n",
    "            for ngram in set(ngram_list):\n",
    "                if ngram not in positive_ngram_count:\n",
    "                    positive_ngram_count[ngram] = 1\n",
    "                else: \n",
    "                    positive_ngram_count[ngram] += 1\n",
    "                    \n",
    "        # Process the tweet that contains negative emoji.            \n",
    "        if contain_emoji(tweet, negative):\n",
    "            text_without_emoji = filter_emoji(tweet, all_emojis)\n",
    "            ngram_list = convert_to_ngrams(text_without_emoji, ngram_n)\n",
    "            if ngram_n == 1:\n",
    "                ngram_list = filter_stop(ngram_list, stop_words)\n",
    "            for ngram in set(ngram_list):\n",
    "                if word not in negative_ngram_count:\n",
    "                    negative_ngram_count[ngram] = 1\n",
    "                else: \n",
    "                    negative_ngram_count[ngram] += 1\n",
    "    \n",
    "#print \"Positive Word Count\"\n",
    "#print positive_word_count\n",
    "#print \"\\nNegative Word Count\"\n",
    "#print negative_word_count\n",
    "\n",
    "\n",
    "# Sort the positive and negative words based on their counts.\n",
    "# sorted in descending order using \"reverse = true\"\n",
    "sorted_positive_ngrams = sorted(positive_ngram_count.items(), key=operator.itemgetter(1), reverse=True)\n",
    "#print \"\\nSorted Positive Word Count\"\n",
    "#print sorted_positive_words\n",
    "print (\"Top 20 Positive Ngrams, where n=\", ngram_n)\n",
    "ii = 0\n",
    "for ngram in sorted_positive_ngrams: \n",
    "    if ii >= 20:\n",
    "        break\n",
    "    ii +=1\n",
    "    print ngram\n",
    "\n",
    "sorted_negative_ngrams = sorted(negative_ngram_count.items(), key=operator.itemgetter(1), reverse=True)\n",
    "print (\"\\nTop 20 Negative Ngrams, where n=\", ngram_n)\n",
    "ii = 0\n",
    "for ngram in sorted_negative_ngrams: \n",
    "    if ii >= 20:\n",
    "        break\n",
    "    ii +=1\n",
    "    print ngram\n",
    "\n",
    "    \n",
    "#print \"\\nSorted Negative Word Count\"\n",
    "#print sorted_negative_words\n"
   ]
  }
 ],
 "metadata": {
  "kernelspec": {
   "display_name": "Python 2",
   "language": "python",
   "name": "python2"
  },
  "language_info": {
   "codemirror_mode": {
    "name": "ipython",
    "version": 2
   },
   "file_extension": ".py",
   "mimetype": "text/x-python",
   "name": "python",
   "nbconvert_exporter": "python",
   "pygments_lexer": "ipython2",
   "version": "2.7.11"
  }
 },
 "nbformat": 4,
 "nbformat_minor": 0
}
