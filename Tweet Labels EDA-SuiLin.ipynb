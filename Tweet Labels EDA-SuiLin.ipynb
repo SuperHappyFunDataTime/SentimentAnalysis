{
 "cells": [
  {
   "cell_type": "markdown",
   "metadata": {},
   "source": [
    "# Sentiment Analysis Using Emojis Project"
   ]
  },
  {
   "cell_type": "markdown",
   "metadata": {},
   "source": [
    "SuiLin's notes, February 27, 2016\n"
   ]
  },
  {
   "cell_type": "markdown",
   "metadata": {},
   "source": [
    "### Data Exploration on Labels"
   ]
  },
  {
   "cell_type": "markdown",
   "metadata": {},
   "source": [
    "In this notebook we explore the connections between the emoji based labels and the human ones, based on a random sample of 500 tweets. the objective is to establish whether the emojis provide an accurate enough labeling, for the two sentiments analyzed (happy, unhappy)."
   ]
  },
  {
   "cell_type": "code",
   "execution_count": 4,
   "metadata": {
    "collapsed": true
   },
   "outputs": [],
   "source": [
    "import numpy as np"
   ]
  },
  {
   "cell_type": "code",
   "execution_count": 2,
   "metadata": {
    "collapsed": false
   },
   "outputs": [],
   "source": [
    "f = open(\"d:\\\\data\\\\tweetvalidate.tsv\", \"r\") # load the validated data (human labelled tweets), \"r\" means open the file in read-only mode.\n",
    "lines = f.readlines() # Read all the lines in the file.\n",
    "f.close()"
   ]
  },
  {
   "cell_type": "code",
   "execution_count": 5,
   "metadata": {
    "collapsed": true
   },
   "outputs": [],
   "source": [
    "N = len(lines) - 2 # The first 2 lines are the headers."
   ]
  },
  {
   "cell_type": "code",
   "execution_count": 6,
   "metadata": {
    "collapsed": true
   },
   "outputs": [],
   "source": [
    "VD = np.zeros(N) # Validated Data array with size N. Initialize to all the values in the array to 0."
   ]
  },
  {
   "cell_type": "code",
   "execution_count": 22,
   "metadata": {
    "collapsed": true
   },
   "outputs": [],
   "source": [
    "c = 0"
   ]
  },
  {
   "cell_type": "code",
   "execution_count": 23,
   "metadata": {
    "collapsed": true
   },
   "outputs": [],
   "source": [
    "for line in lines[2:]: # skip the first 2 lines (headers). For each line in the lines.\n",
    "    # Split into columns in the tsv file and assign column #1 to column #3 to temp. Column #0, which is the ID is skipped.\n",
    "    temp = line.split(\"\\t\")[1:4] \n",
    "    \n",
    "    for i in xrange(3): # Iterate through the loop for i=0, i=1, i=2.\n",
    "        if temp[i] == \"p\" or temp[i] == \"P\":\n",
    "            temp[i] = 1\n",
    "        elif temp[i] == \"n\" or temp[i] == \"N\":\n",
    "            temp[i] = -1\n",
    "        else:\n",
    "            temp[i] = 0\n",
    "    \n",
    "    # Sum up the values in temp and then sign() will return either (-1, 0, 1) depending on the labels.\n",
    "    VD[c] = np.sign(sum(temp)) \n",
    "    c += 1 # Go to the next line in the tsv file."
   ]
  },
  {
   "cell_type": "code",
   "execution_count": 25,
   "metadata": {
    "collapsed": true
   },
   "outputs": [],
   "source": [
    "f = open(\"d:\\\\data\\\\tweetvalidatekey.csv\", \"r\") # load the true data (emoji labelled tweets\n",
    "lines = f.readlines()\n",
    "f.close()\n",
    "# TODO: Might want to reset N to the lines in csv?\n",
    "#N = len(lines) -1 # Skip the first line since it is the header."
   ]
  },
  {
   "cell_type": "code",
   "execution_count": 34,
   "metadata": {
    "collapsed": true
   },
   "outputs": [],
   "source": [
    "TD = np.ones(N) # True Data. Create an array with N elements and initailize the elements to 1."
   ]
  },
  {
   "cell_type": "code",
   "execution_count": 52,
   "metadata": {
    "collapsed": true
   },
   "outputs": [],
   "source": [
    "c = 0"
   ]
  },
  {
   "cell_type": "code",
   "execution_count": 53,
   "metadata": {
    "collapsed": false
   },
   "outputs": [],
   "source": [
    "for line in lines[1:N]: # skip the first line (headers)\n",
    "    line = line.split(\",\") # line = [tweet_id, sentiment, tweets]\n",
    "    label = line[1]  # Assign sentiment to label.\n",
    "    if label == \"Negative\": TD[c] = -1 # Set True Data to -1 if the label is \"Negative\".\n",
    "    c += 1  # Go to the following line."
   ]
  },
  {
   "cell_type": "code",
   "execution_count": 56,
   "metadata": {
    "collapsed": false
   },
   "outputs": [],
   "source": [
    "CM = np.zeros((3,2)) # Confusion Matrix. Create a 2-dimensional array with 3 rows and 2 columns and initialize the values to 0."
   ]
  },
  {
   "cell_type": "code",
   "execution_count": 57,
   "metadata": {
    "collapsed": true
   },
   "outputs": [],
   "source": [
    "VL = [1, -1, 0] # Validated Labels\n",
    "TL = [1, -1] # True Labels"
   ]
  },
  {
   "cell_type": "code",
   "execution_count": 2,
   "metadata": {
    "collapsed": false
   },
   "outputs": [
    {
     "ename": "NameError",
     "evalue": "name 'N' is not defined",
     "output_type": "error",
     "traceback": [
      "\u001b[1;31m---------------------------------------------------------------------------\u001b[0m",
      "\u001b[1;31mNameError\u001b[0m                                 Traceback (most recent call last)",
      "\u001b[1;32m<ipython-input-2-bf491c0c6ff2>\u001b[0m in \u001b[0;36m<module>\u001b[1;34m()\u001b[0m\n\u001b[1;32m----> 1\u001b[1;33m \u001b[1;32mfor\u001b[0m \u001b[0mz\u001b[0m \u001b[1;32min\u001b[0m \u001b[0mxrange\u001b[0m\u001b[1;33m(\u001b[0m\u001b[0mN\u001b[0m\u001b[1;33m)\u001b[0m\u001b[1;33m:\u001b[0m \u001b[1;31m# xrange is from 0 to N-1. N is the number of tweets in the files.\u001b[0m\u001b[1;33m\u001b[0m\u001b[0m\n\u001b[0m\u001b[0;32m      2\u001b[0m     \u001b[1;32mfor\u001b[0m \u001b[0mi\u001b[0m \u001b[1;32min\u001b[0m \u001b[0mxrange\u001b[0m\u001b[1;33m(\u001b[0m\u001b[1;36m3\u001b[0m\u001b[1;33m)\u001b[0m\u001b[1;33m:\u001b[0m \u001b[1;31m# Iterate through validated labels.\u001b[0m\u001b[1;33m\u001b[0m\u001b[0m\n\u001b[0;32m      3\u001b[0m         \u001b[1;32mfor\u001b[0m \u001b[0mj\u001b[0m \u001b[1;32min\u001b[0m \u001b[0mxrange\u001b[0m\u001b[1;33m(\u001b[0m\u001b[1;36m2\u001b[0m\u001b[1;33m)\u001b[0m\u001b[1;33m:\u001b[0m \u001b[1;31m# Iterate through true labels.\u001b[0m\u001b[1;33m\u001b[0m\u001b[0m\n\u001b[0;32m      4\u001b[0m             \u001b[1;32mif\u001b[0m \u001b[1;33m(\u001b[0m\u001b[0mVD\u001b[0m\u001b[1;33m[\u001b[0m\u001b[0mz\u001b[0m\u001b[1;33m]\u001b[0m \u001b[1;33m==\u001b[0m \u001b[0mVL\u001b[0m\u001b[1;33m[\u001b[0m\u001b[0mi\u001b[0m\u001b[1;33m]\u001b[0m\u001b[1;33m)\u001b[0m \u001b[1;32mand\u001b[0m \u001b[1;33m(\u001b[0m\u001b[0mTD\u001b[0m\u001b[1;33m[\u001b[0m\u001b[0mz\u001b[0m\u001b[1;33m]\u001b[0m \u001b[1;33m==\u001b[0m \u001b[0mTL\u001b[0m\u001b[1;33m[\u001b[0m\u001b[0mj\u001b[0m\u001b[1;33m]\u001b[0m\u001b[1;33m)\u001b[0m\u001b[1;33m:\u001b[0m \u001b[0mCM\u001b[0m\u001b[1;33m[\u001b[0m\u001b[0mi\u001b[0m\u001b[1;33m,\u001b[0m\u001b[0mj\u001b[0m\u001b[1;33m]\u001b[0m \u001b[1;33m+=\u001b[0m \u001b[1;36m1\u001b[0m \u001b[1;31m# increase the values in confusion matrix\u001b[0m\u001b[1;33m\u001b[0m\u001b[0m\n\u001b[0;32m      5\u001b[0m \u001b[1;33m\u001b[0m\u001b[0m\n",
      "\u001b[1;31mNameError\u001b[0m: name 'N' is not defined"
     ]
    }
   ],
   "source": [
    "for z in xrange(N): # xrange is from 0 to N-1. N is the number of tweets in the files.\n",
    "    for i in xrange(3): # Iterate through validated labels.\n",
    "        for j in xrange(2): # Iterate through true labels.\n",
    "            if (VD[z] == VL[i]) and (TD[z] == TL[j]): CM[i,j] += 1 # increase the values in confusion matrix\n",
    "\n",
    "print CM # 103 tweets are emoji labelled and validated to be positive.  \n",
    "         # 205 tweets are emoji labelled as negative but validated as positive."
   ]
  },
  {
   "cell_type": "code",
   "execution_count": 68,
   "metadata": {
    "collapsed": false
   },
   "outputs": [
    {
     "name": "stdout",
     "output_type": "stream",
     "text": [
      "0.539956803456\n"
     ]
    }
   ],
   "source": [
    "# Similarity Index (ignoring 3rd row). Take sum of correctly labelled postive and negative tweets and divide by all the tweets\n",
    "# validated to as positive or negative (excludes neutral tweets)\n",
    "print SI\n",
    "SI = (CM[0,0] + CM[1,1]) / (N - sum(CM[2,:])) "
   ]
  },
  {
   "cell_type": "code",
   "execution_count": 69,
   "metadata": {
    "collapsed": true
   },
   "outputs": [],
   "source": [
    "def JS(CM, C): # Jaccard Similarity of class C TODO: Ask why exclude other intersection\n",
    "#BP = both positive; BN = both negative; E= emoji; H=human\n",
    "    N = sum(sum(CM))\n",
    "    \n",
    "    if C == 0: #BP divided by BP + ENHP + EPHN\n",
    "        return CM[0,0] / (N - CM[1,1])\n",
    "    else: #BN divided by BN + ENHP + EPHN\n",
    "        return CM[1,1] / (N - CM[0,0])"
   ]
  },
  {
   "cell_type": "code",
   "execution_count": 72,
   "metadata": {
    "collapsed": false
   },
   "outputs": [
    {
     "name": "stdout",
     "output_type": "stream",
     "text": [
      "[0.29178470254957506, 0.37027707808564231]\n"
     ]
    }
   ],
   "source": [
    "J = [JS(CM,0), JS(CM,1)]\n",
    "print J"
   ]
  },
  {
   "cell_type": "markdown",
   "metadata": {},
   "source": [
    "### Conclusions"
   ]
  },
  {
   "cell_type": "markdown",
   "metadata": {},
   "source": [
    "There is some overlap between the human-labeled tweets and the emoji labels (54%), yet there is a large number of false positives (if we take the emoji data to be correct). This is reflected by the Jaccard Similarity on the \"Positive\" class (0), which is around 29%. The number of neutral tweets, although small, is not negligible (~ 7.5%). Perhaps the use of a third class in the emoji classification would improve the overall similarity."
   ]
  }
 ],
 "metadata": {
  "kernelspec": {
   "display_name": "Python 2",
   "language": "python",
   "name": "python2"
  },
  "language_info": {
   "codemirror_mode": {
    "name": "ipython",
    "version": 2
   },
   "file_extension": ".py",
   "mimetype": "text/x-python",
   "name": "python",
   "nbconvert_exporter": "python",
   "pygments_lexer": "ipython2",
   "version": "2.7.11"
  }
 },
 "nbformat": 4,
 "nbformat_minor": 0
}
